{
 "cells": [
  {
   "cell_type": "code",
   "execution_count": 1,
   "metadata": {
    "colab": {
     "base_uri": "https://localhost:8080/",
     "height": 36
    },
    "colab_type": "code",
    "id": "HMxJvuIhwicw",
    "outputId": "ce5f3f72-f2ff-46ab-f399-3acc39deb53b"
   },
   "outputs": [
    {
     "name": "stderr",
     "output_type": "stream",
     "text": [
      "Using TensorFlow backend.\n"
     ]
    }
   ],
   "source": [
    "#importing all the required lib\n",
    "import pandas as pd\n",
    "import numpy as np \n",
    "import os\n",
    "import math\n",
    "from collections import defaultdict\n",
    "import matplotlib.pyplot as plt\n",
    "from sklearn.feature_extraction.text import TfidfVectorizer,CountVectorizer\n",
    "from sklearn.model_selection import train_test_split\n",
    "from keras.preprocessing.text import Tokenizer\n",
    "from keras.preprocessing.sequence import pad_sequences\n",
    "from keras.layers import SpatialDropout1D, LSTM, BatchNormalization,concatenate,Flatten,Embedding,Dense,Dropout,MaxPooling2D,Reshape,CuDNNLSTM\n",
    "from keras.models import Sequential\n",
    "from keras import Model,Input\n",
    "from keras.layers.convolutional import Conv2D,Conv1D\n",
    "import keras.backend as k\n",
    "from sklearn.metrics import roc_auc_score\n",
    "import tensorflow as tf\n",
    "import keras\n",
    "from sklearn.utils import compute_class_weight\n",
    "from keras.initializers import he_normal,glorot_normal\n",
    "from keras.regularizers import l1,l2\n",
    "from keras.callbacks import Callback, EarlyStopping, ModelCheckpoint,LearningRateScheduler\n",
    "from time import time\n",
    "from tensorflow.python.keras.callbacks import TensorBoard\n",
    "from keras.callbacks import TensorBoard\n",
    "from IPython.display import SVG, display\n",
    "import pickle \n",
    "from keras.layers import LeakyReLU\n",
    "import warnings\n",
    "warnings.filterwarnings(\"ignore\")"
   ]
  },
  {
   "cell_type": "code",
   "execution_count": null,
   "metadata": {
    "colab": {},
    "colab_type": "code",
    "id": "LZ0ef50lrVmV"
   },
   "outputs": [],
   "source": [
    "from pydrive.auth import GoogleAuth\n",
    "from pydrive.drive import GoogleDrive\n",
    "from google.colab import auth\n",
    "from oauth2client.client import GoogleCredentials\n",
    "# Authenticate and create the PyDrive client.\n",
    "auth.authenticate_user()\n",
    "gauth = GoogleAuth()\n",
    "gauth.credentials = GoogleCredentials.get_application_default()\n",
    "drive = GoogleDrive(gauth)\n",
    "\n",
    "import pandas as pd\n",
    "id = '1GpATd_pM4mcnWWIs28-s1lgqdAg2Wdv-'\n",
    "\n",
    "downloaded = drive.CreateFile({'id':id}) \n",
    "downloaded.GetContentFile('preprocessed_data.csv')\n",
    "df=pd.read_csv('preprocessed_data.csv')\n",
    "\n",
    "id = '1pGd5tLwA30M7wkbJKdXHaae9tYVDICJ_'\n",
    "\n",
    "downloaded = drive.CreateFile({'id':id}) \n",
    "downloaded.GetContentFile('glove_vectors')\n",
    "\n",
    "import pickle\n",
    "with open('glove_vectors', 'rb') as f:\n",
    "    gmodel = pickle.load(f)\n",
    "    glove_words =  (gmodel.keys())"
   ]
  },
  {
   "cell_type": "code",
   "execution_count": 2,
   "metadata": {
    "colab": {
     "base_uri": "https://localhost:8080/",
     "height": 36
    },
    "colab_type": "code",
    "id": "Z6eCVaU9n5yd",
    "outputId": "fd8bd961-a57d-4e67-b7c5-ea2d966d6288"
   },
   "outputs": [
    {
     "name": "stdout",
     "output_type": "stream",
     "text": [
      "Found GPU at: /device:GPU:0\n"
     ]
    }
   ],
   "source": [
    "%tensorflow_version 2.x\n",
    "import tensorflow as tf\n",
    "device_name = tf.test.gpu_device_name()\n",
    "if device_name != '/device:GPU:0':\n",
    "  raise SystemError('GPU device not found')\n",
    "print('Found GPU at: {}'.format(device_name))"
   ]
  },
  {
   "cell_type": "code",
   "execution_count": 3,
   "metadata": {
    "colab": {
     "base_uri": "https://localhost:8080/",
     "height": 131
    },
    "colab_type": "code",
    "id": "rJH4GhSadneQ",
    "outputId": "c17c767c-0d13-4c8d-94ef-9f9533814ac2"
   },
   "outputs": [
    {
     "name": "stdout",
     "output_type": "stream",
     "text": [
      "Go to this URL in a browser: https://accounts.google.com/o/oauth2/auth?client_id=947318989803-6bn6qk8qdgf4n4g3pfee6491hc0brc4i.apps.googleusercontent.com&redirect_uri=urn%3aietf%3awg%3aoauth%3a2.0%3aoob&response_type=code&scope=email%20https%3a%2f%2fwww.googleapis.com%2fauth%2fdocs.test%20https%3a%2f%2fwww.googleapis.com%2fauth%2fdrive%20https%3a%2f%2fwww.googleapis.com%2fauth%2fdrive.photos.readonly%20https%3a%2f%2fwww.googleapis.com%2fauth%2fpeopleapi.readonly\n",
      "\n",
      "Enter your authorization code:\n",
      "··········\n",
      "Mounted at /content/drive\n"
     ]
    }
   ],
   "source": [
    "# Load the Drive helper and mount\n",
    "from google.colab import drive\n",
    "drive.mount('/content/drive')"
   ]
  },
  {
   "cell_type": "code",
   "execution_count": 4,
   "metadata": {
    "colab": {
     "base_uri": "https://localhost:8080/",
     "height": 36
    },
    "colab_type": "code",
    "id": "1Re4nNoRdyMY",
    "outputId": "a36cf760-2f13-4bc1-bcca-3d2a1334f2f0"
   },
   "outputs": [
    {
     "data": {
      "text/plain": [
       "(109248, 9)"
      ]
     },
     "execution_count": 4,
     "metadata": {
      "tags": []
     },
     "output_type": "execute_result"
    }
   ],
   "source": [
    "data = pd.read_csv(\"/content/drive/My Drive/Assignments/preprocessed_data.csv\")\n",
    "data.shape"
   ]
  },
  {
   "cell_type": "code",
   "execution_count": 5,
   "metadata": {
    "colab": {},
    "colab_type": "code",
    "id": "xKiBaiwid2s1"
   },
   "outputs": [],
   "source": [
    "dbfile = open('/content/drive/My Drive/Assignments_DonorsChoose_2018/glove_vectors', 'rb')      \n",
    "db = pickle.load(dbfile)"
   ]
  },
  {
   "cell_type": "code",
   "execution_count": 6,
   "metadata": {
    "colab": {
     "base_uri": "https://localhost:8080/",
     "height": 73
    },
    "colab_type": "code",
    "id": "Mskmf5yKxBYb",
    "outputId": "3329ce53-c37b-4573-c123-c15863c05a74"
   },
   "outputs": [
    {
     "name": "stdout",
     "output_type": "stream",
     "text": [
      "(300,)\n",
      "[-0.069254  0.37668  -0.16958  -0.27482   0.25667  -0.20293  -4.1122\n",
      "  0.02595  -0.27085  -0.87003 ]\n"
     ]
    }
   ],
   "source": [
    "print(db[\"good\"].shape)\n",
    "print(db[\"good\"][0:10])"
   ]
  },
  {
   "cell_type": "markdown",
   "metadata": {
    "colab_type": "text",
    "id": "qPkTKEtQux6l"
   },
   "source": [
    "Each word is represented as a 300X1 dim vector and we printed the first 10values of a word \"good\""
   ]
  },
  {
   "cell_type": "code",
   "execution_count": 7,
   "metadata": {
    "colab": {},
    "colab_type": "code",
    "id": "FIEv2EBN8tVR"
   },
   "outputs": [],
   "source": [
    "data['remaining_input'] = data['teacher_number_of_previously_posted_projects']  +\\\n",
    "                                 data['price']"
   ]
  },
  {
   "cell_type": "code",
   "execution_count": 8,
   "metadata": {
    "colab": {},
    "colab_type": "code",
    "id": "PibW2E8q89w_"
   },
   "outputs": [],
   "source": [
    "data.drop([\"teacher_number_of_previously_posted_projects\",\"price\"],axis = 1 ,inplace = True)"
   ]
  },
  {
   "cell_type": "code",
   "execution_count": 9,
   "metadata": {
    "colab": {
     "base_uri": "https://localhost:8080/",
     "height": 92
    },
    "colab_type": "code",
    "id": "tDJLQ7H3eIE6",
    "outputId": "b4af60ed-c4fa-4366-e7ed-a40b684d84bf"
   },
   "outputs": [
    {
     "data": {
      "text/plain": [
       "Index(['school_state', 'teacher_prefix', 'project_grade_category',\n",
       "       'project_is_approved', 'clean_categories', 'clean_subcategories',\n",
       "       'essay', 'remaining_input'],\n",
       "      dtype='object')"
      ]
     },
     "execution_count": 9,
     "metadata": {
      "tags": []
     },
     "output_type": "execute_result"
    }
   ],
   "source": [
    "data.columns"
   ]
  },
  {
   "cell_type": "code",
   "execution_count": 10,
   "metadata": {
    "colab": {
     "base_uri": "https://localhost:8080/",
     "height": 54
    },
    "colab_type": "code",
    "id": "whsyVhCIyHpq",
    "outputId": "217beb6f-c436-4569-8428-4076173b919a"
   },
   "outputs": [
    {
     "name": "stdout",
     "output_type": "stream",
     "text": [
      "Target:(109248,)\n",
      " Input (109248, 7)\n"
     ]
    }
   ],
   "source": [
    "y=data[\"project_is_approved\"]\n",
    "data.drop(\"project_is_approved\",axis = 1,inplace=True)\n",
    "print(f\"Target:{y.shape}\\n Input {data.shape}\")"
   ]
  },
  {
   "cell_type": "markdown",
   "metadata": {
    "colab_type": "text",
    "id": "YAPUNcx8xxMV"
   },
   "source": [
    "Now let's investigate each features "
   ]
  },
  {
   "cell_type": "markdown",
   "metadata": {
    "colab_type": "text",
    "id": "P-upByOyyour"
   },
   "source": [
    "# Splitting our data into train and test"
   ]
  },
  {
   "cell_type": "code",
   "execution_count": 11,
   "metadata": {
    "colab": {
     "base_uri": "https://localhost:8080/",
     "height": 73
    },
    "colab_type": "code",
    "id": "K-ubfFCgyuTR",
    "outputId": "11fcbdc5-7e4e-478f-9a2e-78c56b02e660"
   },
   "outputs": [
    {
     "name": "stdout",
     "output_type": "stream",
     "text": [
      "Train Data (69918, 7) (69918,)\n",
      "Cross-Validation Data (17480, 7) (17480,)\n",
      "Test Data (21850, 7) (21850,)\n"
     ]
    }
   ],
   "source": [
    "# Split Train, CV and Test data (64, 16, 20)\n",
    "from sklearn.model_selection import train_test_split\n",
    "X_train, X_test, y_train, y_test = train_test_split(data, y, test_size=0.2, stratify=y,random_state=5)\n",
    "X_train, X_cv, y_train, y_cv = train_test_split(X_train, y_train, test_size=0.2, stratify=y_train,random_state=5)\n",
    "\n",
    "print('Train Data', X_train.shape, y_train.shape)\n",
    "print('Cross-Validation Data', X_cv.shape, y_cv.shape)\n",
    "print('Test Data', X_test.shape, y_test.shape)"
   ]
  },
  {
   "cell_type": "code",
   "execution_count": 12,
   "metadata": {
    "colab": {},
    "colab_type": "code",
    "id": "lD3BRfuzzjoD"
   },
   "outputs": [],
   "source": [
    "from keras.utils import to_categorical\n",
    "y_train = to_categorical(y_train)\n",
    "y_cv = to_categorical(y_cv)\n",
    "y_test = to_categorical(y_test)"
   ]
  },
  {
   "cell_type": "markdown",
   "metadata": {
    "colab_type": "text",
    "id": "emVxSSgY398W"
   },
   "source": [
    "Now let's prepare our features for embedding"
   ]
  },
  {
   "cell_type": "markdown",
   "metadata": {
    "colab_type": "text",
    "id": "W9uXRRKV4Ery"
   },
   "source": [
    "## School-State"
   ]
  },
  {
   "cell_type": "code",
   "execution_count": 13,
   "metadata": {
    "colab": {},
    "colab_type": "code",
    "id": "B09RkOFz0reR"
   },
   "outputs": [],
   "source": [
    "from sklearn.preprocessing import LabelEncoder\n",
    "class LabelEncoderExt(object):\n",
    "      def __init__(self):\n",
    "         self.label_encoder = LabelEncoder()\n",
    "      # self.classes_ = self.label_encoder.classes_\n",
    "      def fit(self, data_list):\n",
    "     \n",
    "          self.label_encoder = self.label_encoder.fit(list(data_list) + ['Unknown'])\n",
    "          self.classes_ = self.label_encoder.classes_\n",
    "          return self\n",
    "      def transform(self, data_list):\n",
    "      \n",
    "          new_data_list = list(data_list)\n",
    "          for unique_item in np.unique(data_list):\n",
    "              if unique_item not in self.label_encoder.classes_:\n",
    "                      new_data_list = ['Unknown' if x==unique_item else x for x in new_data_list]\n",
    "          return self.label_encoder.transform(new_data_list)\n",
    "\n",
    "\n",
    "     \n",
    "\n",
    "\n"
   ]
  },
  {
   "cell_type": "code",
   "execution_count": 14,
   "metadata": {
    "colab": {},
    "colab_type": "code",
    "id": "tlV9kn_M1KUd"
   },
   "outputs": [],
   "source": [
    "from keras.preprocessing import sequence\n",
    "train_sch_state = X_train.school_state.values\n",
    "test_sch_state = X_test.school_state.values\n",
    "cv_sch_state = X_cv.school_state.values\n",
    "# tokenizer = Tokenizer() #using the TOkenizer function creating an object tokenizer\n",
    "# tokenizer.fit_on_texts(train_sch_state)#training on train data\n",
    "# train_sch_state = tokenizer.texts_to_sequences(train_sch_state)#converting text to squences \n",
    "# test_sch_state = tokenizer.texts_to_sequences(test_sch_state)\n",
    "# cv_sch_state = tokenizer.texts_to_sequences(cv_sch_state)\n",
    "# x_train_sch_state = sequence.pad_sequences(train_sch_state, maxlen = max_length, padding='post')\n",
    "# x_test_sch_state = sequence.pad_sequences(test_sch_state, maxlen = max_length, padding='post')\n",
    "# x_cv_sch_state = sequence.pad_sequences(cv_sch_state, maxlen = max_length, padding='post')"
   ]
  },
  {
   "cell_type": "code",
   "execution_count": 15,
   "metadata": {
    "colab": {},
    "colab_type": "code",
    "id": "6Vy5wY3P098R"
   },
   "outputs": [],
   "source": [
    "le1=LabelEncoderExt()\n",
    "le1.fit(train_sch_state)\n",
    "x_train_sch_state=le1.transform(train_sch_state)\n",
    "x_cv_sch_state=le1.transform(cv_sch_state)\n",
    "x_test_sch_state=le1.transform(test_sch_state)\n",
    "\n",
    "\n"
   ]
  },
  {
   "cell_type": "code",
   "execution_count": 16,
   "metadata": {
    "colab": {},
    "colab_type": "code",
    "id": "6zxb43fm8GUL"
   },
   "outputs": [],
   "source": [
    "train_proj_grade = X_train.project_grade_category.values\n",
    "test_proj_grade = X_test.project_grade_category.values\n",
    "cv_proj_grade = X_cv.project_grade_category.values\n",
    "# tokenizer = Tokenizer()\n",
    "# tokenizer.fit_on_texts(train_proj_grade)\n",
    "# train_proj_grade = tokenizer.texts_to_sequences(train_proj_grade)\n",
    "# test_proj_grade = tokenizer.texts_to_sequences(test_proj_grade)\n",
    "# cv_proj_grade = tokenizer.texts_to_sequences(cv_proj_grade)\n",
    "# x_train_proj_grade = sequence.pad_sequences(train_proj_grade, maxlen = max_length, padding='post')\n",
    "# x_test_proj_grade = sequence.pad_sequences(test_proj_grade, maxlen = max_length, padding='post')\n",
    "# x_cv_proj_grade = sequence.pad_sequences(cv_proj_grade, maxlen = max_length, padding='post')\n",
    "le1=LabelEncoderExt()\n",
    "le1.fit(train_proj_grade)\n",
    "x_train_proj_grade=le1.transform(train_proj_grade)\n",
    "x_cv_proj_grade=le1.transform(cv_proj_grade)\n",
    "x_test_proj_grade=le1.transform(test_proj_grade)"
   ]
  },
  {
   "cell_type": "markdown",
   "metadata": {
    "colab_type": "text",
    "id": "VAHhD-WPB8kN"
   },
   "source": [
    "#Clean Categories"
   ]
  },
  {
   "cell_type": "code",
   "execution_count": 17,
   "metadata": {
    "colab": {},
    "colab_type": "code",
    "id": "-rpiYcfdCIKF"
   },
   "outputs": [],
   "source": [
    "train_clean_cat = X_train.clean_categories.values\n",
    "test_clean_cat = X_test.clean_categories.values\n",
    "cv_clean_cat = X_cv.clean_categories.values\n",
    "le1=LabelEncoderExt()\n",
    "le1.fit(train_clean_cat)\n",
    "x_train_clean_cat=le1.transform(train_clean_cat)\n",
    "x_cv_clean_cat=le1.transform(cv_clean_cat)\n",
    "x_test_clean_cat=le1.transform(test_clean_cat)"
   ]
  },
  {
   "cell_type": "code",
   "execution_count": 18,
   "metadata": {
    "colab": {},
    "colab_type": "code",
    "id": "wGXR3HQ4CeHL"
   },
   "outputs": [],
   "source": [
    "train_clean_sub_cat = X_train.clean_subcategories.values\n",
    "test_clean_sub_cat = X_test.clean_subcategories.values\n",
    "cv_clean_sub_cat = X_cv.clean_subcategories.values\n",
    "le1=LabelEncoderExt()\n",
    "le1.fit(train_clean_sub_cat)\n",
    "x_train_clean_sub_cat=le1.transform(train_clean_sub_cat)\n",
    "x_cv_clean_sub_cat=le1.transform(cv_clean_sub_cat)\n",
    "x_test_clean_sub_cat=le1.transform(test_clean_sub_cat)\n"
   ]
  },
  {
   "cell_type": "code",
   "execution_count": 20,
   "metadata": {
    "colab": {},
    "colab_type": "code",
    "id": "wVxYNGG-FPwT"
   },
   "outputs": [],
   "source": [
    "train_teacher_prefix = X_train.teacher_prefix.values\n",
    "test_teacher_prefix = X_test.teacher_prefix.values\n",
    "cv_teacher_prefix = X_cv.teacher_prefix.values\n",
    "le1=LabelEncoderExt()\n",
    "le1.fit(train_teacher_prefix)\n",
    "x_train_teacher_prefix=le1.transform(train_teacher_prefix)\n",
    "x_cv_teacher_prefix=le1.transform(cv_teacher_prefix)\n",
    "x_test_teacher_prefix=le1.transform(test_teacher_prefix)"
   ]
  },
  {
   "cell_type": "markdown",
   "metadata": {
    "colab_type": "text",
    "id": "KNpRS7P8Hh_G"
   },
   "source": [
    "#Teacher-Prefix"
   ]
  },
  {
   "cell_type": "code",
   "execution_count": null,
   "metadata": {
    "colab": {},
    "colab_type": "code",
    "id": "8detCE-WHlAd"
   },
   "outputs": [],
   "source": [
    "# train_teacher_prefix = X_train.teacher_prefix.values\n",
    "# test_teacher_prefix = X_test.teacher_prefix.values\n",
    "# cv_teacher_prefix = X_cv.teacher_prefix.values\n",
    "# max_length = 1\n",
    "# # tokenizer = Tokenizer()\n",
    "# tokenizer.fit_on_texts(train_teacher_prefix)\n",
    "# train_teacher_prefix = tokenizer.texts_to_sequences(train_teacher_prefix)\n",
    "# test_teacher_prefix = tokenizer.texts_to_sequences(test_teacher_prefix)\n",
    "# cv_teacher_prefix = tokenizer.texts_to_sequences(cv_teacher_prefix)\n",
    "# x_train_teacher_prefix = sequence.pad_sequences(train_teacher_prefix, maxlen = max_length, padding='post')\n",
    "# x_test_teacher_prefix = sequence.pad_sequences(test_teacher_prefix, maxlen = max_length, padding='post')\n",
    "# x_cv_teacher_prefix = sequence.pad_sequences(cv_teacher_prefix, maxlen = max_length, padding='post')"
   ]
  },
  {
   "cell_type": "markdown",
   "metadata": {
    "colab_type": "text",
    "id": "hkZcV24UI42A"
   },
   "source": [
    "#Numerical Featurization"
   ]
  },
  {
   "cell_type": "code",
   "execution_count": 21,
   "metadata": {
    "colab": {
     "base_uri": "https://localhost:8080/",
     "height": 167
    },
    "colab_type": "code",
    "id": "ak9pXYDgSKQd",
    "outputId": "9e387315-3072-4118-fa0c-21c22f0b1659"
   },
   "outputs": [
    {
     "name": "stdout",
     "output_type": "stream",
     "text": [
      "(69918, 1)\n",
      "[[-0.33347414]\n",
      " [-0.56713156]\n",
      " [ 3.04850062]\n",
      " ...\n",
      " [ 0.18106669]\n",
      " [-0.43048112]\n",
      " [-0.43015144]]\n"
     ]
    }
   ],
   "source": [
    "X_train[\"remaining_input\"] = X_train[\"remaining_input\"].values.reshape(-1,1)\n",
    "X_train[\"remaining_input\"].shape\n",
    "from sklearn.preprocessing import MinMaxScaler , StandardScaler\n",
    "\n",
    "scalar = StandardScaler()\n",
    "scalar.fit(X_train[\"remaining_input\"].values.reshape(-1,1))\n",
    "x_train_num = scalar.transform(X_train[\"remaining_input\"].values.reshape(-1,1))\n",
    "x_test_num = scalar.transform(X_test[\"remaining_input\"].values.reshape(-1,1))\n",
    "x_cv_num = scalar.transform(X_cv[\"remaining_input\"].values.reshape(-1,1))\n",
    "print(x_train_num.shape)\n",
    "print(x_train_num)\n"
   ]
  },
  {
   "cell_type": "markdown",
   "metadata": {
    "colab_type": "text",
    "id": "qc93p2s0Xegt"
   },
   "source": [
    "# Text Data Vectorization"
   ]
  },
  {
   "cell_type": "markdown",
   "metadata": {
    "colab_type": "text",
    "id": "4P0d1m3_Yn5S"
   },
   "source": [
    "#Assignment-2"
   ]
  },
  {
   "cell_type": "code",
   "execution_count": 22,
   "metadata": {
    "colab": {},
    "colab_type": "code",
    "id": "NPObmUk43_ny"
   },
   "outputs": [],
   "source": [
    "vectorizer = TfidfVectorizer() #Defining TFIDF with min_df=10\n",
    "imp_tf = vectorizer.fit(X_train.essay)"
   ]
  },
  {
   "cell_type": "code",
   "execution_count": 23,
   "metadata": {
    "colab": {
     "base_uri": "https://localhost:8080/",
     "height": 36
    },
    "colab_type": "code",
    "id": "pTv_Y4ZzZIIr",
    "outputId": "64ab48bd-8d9d-4739-f005-26fa092b8635"
   },
   "outputs": [
    {
     "name": "stdout",
     "output_type": "stream",
     "text": [
      "(47206,)\n"
     ]
    }
   ],
   "source": [
    "idf_values = vectorizer.idf_\n",
    "print(idf_values.shape)"
   ]
  },
  {
   "cell_type": "code",
   "execution_count": 24,
   "metadata": {
    "colab": {
     "base_uri": "https://localhost:8080/",
     "height": 206
    },
    "colab_type": "code",
    "id": "508Jv-ukZNE1",
    "outputId": "239a7876-872b-410e-8dd9-dba2ebfcd77b"
   },
   "outputs": [
    {
     "data": {
      "text/html": [
       "<div>\n",
       "<style scoped>\n",
       "    .dataframe tbody tr th:only-of-type {\n",
       "        vertical-align: middle;\n",
       "    }\n",
       "\n",
       "    .dataframe tbody tr th {\n",
       "        vertical-align: top;\n",
       "    }\n",
       "\n",
       "    .dataframe thead th {\n",
       "        text-align: right;\n",
       "    }\n",
       "</style>\n",
       "<table border=\"1\" class=\"dataframe\">\n",
       "  <thead>\n",
       "    <tr style=\"text-align: right;\">\n",
       "      <th></th>\n",
       "      <th>idf</th>\n",
       "    </tr>\n",
       "  </thead>\n",
       "  <tbody>\n",
       "    <tr>\n",
       "      <th>0</th>\n",
       "      <td>7.206333</td>\n",
       "    </tr>\n",
       "    <tr>\n",
       "      <th>1</th>\n",
       "      <td>5.910926</td>\n",
       "    </tr>\n",
       "    <tr>\n",
       "      <th>2</th>\n",
       "      <td>11.461946</td>\n",
       "    </tr>\n",
       "    <tr>\n",
       "      <th>3</th>\n",
       "      <td>11.461946</td>\n",
       "    </tr>\n",
       "    <tr>\n",
       "      <th>4</th>\n",
       "      <td>11.461946</td>\n",
       "    </tr>\n",
       "  </tbody>\n",
       "</table>\n",
       "</div>"
      ],
      "text/plain": [
       "         idf\n",
       "0   7.206333\n",
       "1   5.910926\n",
       "2  11.461946\n",
       "3  11.461946\n",
       "4  11.461946"
      ]
     },
     "execution_count": 24,
     "metadata": {
      "tags": []
     },
     "output_type": "execute_result"
    }
   ],
   "source": [
    "tfidf_df= pd.DataFrame(idf_values, columns= [\"idf\"])\n",
    "tfidf_df.head()"
   ]
  },
  {
   "cell_type": "code",
   "execution_count": 25,
   "metadata": {
    "colab": {
     "base_uri": "https://localhost:8080/",
     "height": 271
    },
    "colab_type": "code",
    "id": "Bs3zDgikZddr",
    "outputId": "89c9cdb8-63dc-4efb-9f4b-1c99c7264570"
   },
   "outputs": [
    {
     "data": {
      "text/plain": [
       "<matplotlib.axes._subplots.AxesSubplot at 0x7ffa01975d30>"
      ]
     },
     "execution_count": 25,
     "metadata": {
      "tags": []
     },
     "output_type": "execute_result"
    },
    {
     "data": {
      "image/png": "[encoded data removed]",
      "text/plain": [
       "<Figure size 432x288 with 1 Axes>"
      ]
     },
     "metadata": {
      "needs_background": "light",
      "tags": []
     },
     "output_type": "display_data"
    }
   ],
   "source": [
    "import seaborn as sns\n",
    "sns.boxplot(y = \"idf\", data = tfidf_df )"
   ]
  },
  {
   "cell_type": "code",
   "execution_count": 26,
   "metadata": {
    "colab": {},
    "colab_type": "code",
    "id": "jGGglcc3ecHU"
   },
   "outputs": [],
   "source": [
    "all_words_dict = dict(zip(vectorizer.get_feature_names(), vectorizer.idf_))\n",
    "chosen_words_dict = {}\n",
    "for k,v in all_words_dict.items():\n",
    " if v > 4 and v < 11:\n",
    "    chosen_words_dict[k] = v"
   ]
  },
  {
   "cell_type": "code",
   "execution_count": 27,
   "metadata": {
    "colab": {},
    "colab_type": "code",
    "id": "5IJGFbonexcI"
   },
   "outputs": [],
   "source": [
    "from tqdm import tqdm\n",
    "def remove_words_with_idfValue(sentences):\n",
    "  processed=[]\n",
    "  for sent in tqdm(sentences):\n",
    "    sent_lis = sent.split()\n",
    "    new_sent = []\n",
    "    for word in sent_lis:\n",
    "      if chosen_words_dict.get(word):\n",
    "        new_sent.append(word)\n",
    "    processed.append(' '.join(new_sent))\n",
    "  return processed"
   ]
  },
  {
   "cell_type": "code",
   "execution_count": 28,
   "metadata": {
    "colab": {
     "base_uri": "https://localhost:8080/",
     "height": 73
    },
    "colab_type": "code",
    "id": "9xyJ0-kte07p",
    "outputId": "367601f4-1c83-4893-f252-bf8bd6fe0645"
   },
   "outputs": [
    {
     "name": "stderr",
     "output_type": "stream",
     "text": [
      "100%|██████████| 69918/69918 [00:03<00:00, 21812.98it/s]\n",
      "100%|██████████| 17480/17480 [00:00<00:00, 21586.36it/s]\n",
      "100%|██████████| 21850/21850 [00:01<00:00, 21533.46it/s]\n"
     ]
    }
   ],
   "source": [
    "x_train_imp = remove_words_with_idfValue(X_train.essay)\n",
    "x_cross_imp = remove_words_with_idfValue(X_cv.essay)\n",
    "x_test_imp = remove_words_with_idfValue(X_test.essay)"
   ]
  },
  {
   "cell_type": "code",
   "execution_count": 29,
   "metadata": {
    "colab": {},
    "colab_type": "code",
    "id": "4N7q8UyZs4O7"
   },
   "outputs": [],
   "source": [
    "#https://machinelearningmastery.com/use-word-embedding-layers-deep-learning-keras/\n",
    "def padded(encoded_docs):  \n",
    "  max_length = 400\n",
    "  padded_docs = pad_sequences(encoded_docs, maxlen=max_length, padding='post')\n",
    "  return padded_docs"
   ]
  },
  {
   "cell_type": "code",
   "execution_count": 30,
   "metadata": {
    "colab": {
     "base_uri": "https://localhost:8080/",
     "height": 36
    },
    "colab_type": "code",
    "id": "dLxquaJ-vVdi",
    "outputId": "ccf42e61-c161-4e41-f18b-471ef157d692"
   },
   "outputs": [
    {
     "name": "stdout",
     "output_type": "stream",
     "text": [
      "23093\n"
     ]
    }
   ],
   "source": [
    "#https://stackoverflow.com/posts/51956230/revisions\n",
    "t = Tokenizer()\n",
    "t.fit_on_texts(x_train_imp)\n",
    "vocab_size = len(t.word_index) + 1\n",
    "print(vocab_size)\n",
    "# integer encode the documents\n",
    "encoded_docs = t.texts_to_sequences(x_train_imp)\n",
    "essay_padded_train = padded(encoded_docs)"
   ]
  },
  {
   "cell_type": "code",
   "execution_count": 32,
   "metadata": {
    "colab": {},
    "colab_type": "code",
    "id": "bviPFoDzvuS-"
   },
   "outputs": [],
   "source": [
    "#t = Tokenizer()\n",
    "#t.fit_on_texts(x_cross_imp)\n",
    "#vocab_size = len(t.word_index) + 1\n",
    "# integer encode the documents\n",
    "encoded_docs = t.texts_to_sequences(x_cross_imp)\n",
    "essay_padded_cv = padded(encoded_docs)"
   ]
  },
  {
   "cell_type": "code",
   "execution_count": 33,
   "metadata": {
    "colab": {},
    "colab_type": "code",
    "id": "Ex63r8Dovz25"
   },
   "outputs": [],
   "source": [
    "#t = Tokenizer()\n",
    "#t.fit_on_texts(x_test_imp)\n",
    "# vocab_size = len(t.word_index) + 1\n",
    "# integer encode the documents\n",
    "encoded_docs = t.texts_to_sequences(x_test_imp)\n",
    "essay_padded_test = padded(encoded_docs)"
   ]
  },
  {
   "cell_type": "code",
   "execution_count": 35,
   "metadata": {
    "colab": {
     "base_uri": "https://localhost:8080/",
     "height": 36
    },
    "colab_type": "code",
    "id": "E-74Q5zhwEQx",
    "outputId": "7a710066-e6f1-4971-de89-6fdc78c19224"
   },
   "outputs": [
    {
     "name": "stdout",
     "output_type": "stream",
     "text": [
      "(23093, 300)\n"
     ]
    }
   ],
   "source": [
    "embedding_matrix = np.zeros((vocab_size, 300))\n",
    "for word, i in t.word_index.items():\n",
    "    embedding_vector = db.get(word)\n",
    "    if embedding_vector is not None:\n",
    "        embedding_matrix[i] = embedding_vector\n",
    "print(embedding_matrix.shape)"
   ]
  },
  {
   "cell_type": "code",
   "execution_count": 36,
   "metadata": {
    "colab": {
     "base_uri": "https://localhost:8080/",
     "height": 167
    },
    "colab_type": "code",
    "id": "xUCndT6mjkjA",
    "outputId": "b4b7c667-d29a-4f3c-b1f4-30ca672f84c7"
   },
   "outputs": [
    {
     "name": "stdout",
     "output_type": "stream",
     "text": [
      "(69918, 1)\n",
      "[[-0.33347414]\n",
      " [-0.56713156]\n",
      " [ 3.04850062]\n",
      " ...\n",
      " [ 0.18106669]\n",
      " [-0.43048112]\n",
      " [-0.43015144]]\n"
     ]
    }
   ],
   "source": [
    "from sklearn.preprocessing import Normalizer\n",
    "from sklearn.preprocessing import StandardScaler\n",
    "min_max = StandardScaler()\n",
    "min_max.fit(X_train[\"remaining_input\"].values.reshape(-1,1))\n",
    "x_train_num = min_max.transform(X_train[\"remaining_input\"].values.reshape(-1,1))\n",
    "x_test_num = min_max.transform(X_test[\"remaining_input\"].values.reshape(-1,1))\n",
    "x_cv_num = min_max.transform(X_cv[\"remaining_input\"].values.reshape(-1,1))\n",
    "print(x_train_num.shape)\n",
    "print(x_train_num)"
   ]
  },
  {
   "cell_type": "code",
   "execution_count": 60,
   "metadata": {
    "colab": {},
    "colab_type": "code",
    "id": "L9d80HJK6i3r"
   },
   "outputs": [],
   "source": [
    "from keras.optimizers import Adam\n",
    "#input 1\n",
    "input_1 = Input(shape=(400,))\n",
    "x1 =Embedding(vocab_size, 300, weights=[embedding_matrix], input_length=400, trainable=False)(input_1)\n",
    "#what are spartial dropouts - https://machinelearningmastery.com/how-to-reduce-overfitting-with-dropout-regularization-in-keras/\n",
    "#https://stackoverflow.com/questions/50393666/how-to-understand-spatialdropout1d-and-when-to-use-it\n",
    "x1 = LSTM(128,activation='relu',return_sequences=True, recurrent_dropout=0.5)(x1)\n",
    "x1 = Flatten()(x1)\n",
    "\n",
    "#input 2\n",
    "input_2 = Input(shape=(1,))#school_state\n",
    "x2 = Embedding(input_dim= 52, output_dim= min(52//2,50))(input_2)\n",
    "x2 = Flatten()(x2)\n",
    "\n",
    "#input 3\n",
    "input_3 = Input(shape=(1,)) #project_grade\n",
    "x3 = Embedding(input_dim = 52, output_dim= min(52//2,50))(input_3)\n",
    "x3 = Flatten()(x3)\n",
    "\n",
    "#input 4\n",
    "input_4 = Input(shape=(1,)) #clean_categories\n",
    "x4 = Embedding(input_dim=52,output_dim= min(52//2,50))(input_4)\n",
    "x4 = Flatten()(x4)\n",
    "\n",
    "#input 5\n",
    "input_5 = Input(shape=(1,)) #clean_subcategories\n",
    "x5 = Embedding(input_dim= 390, output_dim= min(390//2,50))(input_5)\n",
    "x5 = Flatten()(x5)\n",
    "\n",
    "#input 6\n",
    "input_6 = Input(shape=(1,))#teacher_prefix\n",
    "x6 = Embedding(input_dim= 6,output_dim= min(3,50))(input_6)\n",
    "x6 = Flatten()(x6)\n",
    "\n",
    "#input 7\n",
    "input_7 = Input(shape=(1,)) #numerical\n",
    "x7 = Dense(16,activation='relu',kernel_initializer=he_normal(),kernel_regularizer=l2(0.0001))(input_7)\n",
    "\n",
    "#merging all the inputs \n",
    "x = concatenate([x1,x2,x3,x4,x5,x6,x7])\n",
    "\n",
    "x=BatchNormalization()(x)\n",
    "#x= Dense(1024, activation='relu')(x)\n",
    "#x= LeakyReLU(alpha = 0.3)(x)\n",
    "#x= Dropout(0.8)(x)\n",
    "#x= Dense(512, activation='relu')(x)\n",
    "#x= LeakyReLU(alpha = 0.3)(x)\n",
    "#x= Dropout(0.7)(x)\n",
    "x= Dense(256,kernel_initializer=he_normal(),activation='relu',kernel_regularizer=l2(0.001))(x)\n",
    "#x= LeakyReLU(alpha = 0.3)(x)\n",
    "x= Dropout(0.6)(x)\n",
    "x=BatchNormalization()(x)\n",
    "x= Dense(128,kernel_initializer=he_normal(),activation='relu',kernel_regularizer=l2(0.001))(x)\n",
    "#x= LeakyReLU(alpha = 0.3)(x)\n",
    "x= Dropout(0.5)(x)\n",
    "x= Dense(64,kernel_initializer=he_normal(),activation='relu',kernel_regularizer=l2(0.001))(x)\n",
    "#x= LeakyReLU(alpha = 0.3)(x)\n",
    "x= Dropout(0.4)(x)\n",
    "#x= Dense(1024)(x)\n",
    "#x= LeakyReLU(alpha = 0.3)(x)\n",
    "#x= Dropout(0.5)(x)\n",
    "#x=BatchNormalization()(x)\n",
    "x= Dense(32,kernel_initializer=he_normal(),activation='relu',kernel_regularizer=l2(0.001))(x)\n",
    "#x= LeakyReLU(alpha = 0.3)(x)\n",
    "x= Dropout(0.5)(x)\n",
    "#x=BatchNormalization()(x)\n",
    "x= Dense(16,activation='relu',kernel_initializer=he_normal(),kernel_regularizer=l2(0.002))(x)\n",
    "#x= LeakyReLU(alpha = 0.3)(x)\n",
    "#x= Dropout(0.25)(x)\n",
    "output=Dense(2, activation='softmax')(x)\n",
    "model2 = Model([input_1, input_2, input_3, input_4, input_5, input_6, input_7], output)"
   ]
  },
  {
   "cell_type": "code",
   "execution_count": 61,
   "metadata": {
    "colab": {
     "base_uri": "https://localhost:8080/",
     "height": 1000
    },
    "colab_type": "code",
    "id": "-VutM7AL7z4Y",
    "outputId": "c658f764-0546-4dab-8db7-824c20957a10"
   },
   "outputs": [
    {
     "name": "stdout",
     "output_type": "stream",
     "text": [
      "Model: \"model_4\"\n",
      "__________________________________________________________________________________________________\n",
      "Layer (type)                    Output Shape         Param #     Connected to                     \n",
      "==================================================================================================\n",
      "input_36 (InputLayer)           (None, 400)          0                                            \n",
      "__________________________________________________________________________________________________\n",
      "embedding_31 (Embedding)        (None, 400, 300)     6927900     input_36[0][0]                   \n",
      "__________________________________________________________________________________________________\n",
      "input_37 (InputLayer)           (None, 1)            0                                            \n",
      "__________________________________________________________________________________________________\n",
      "input_38 (InputLayer)           (None, 1)            0                                            \n",
      "__________________________________________________________________________________________________\n",
      "input_39 (InputLayer)           (None, 1)            0                                            \n",
      "__________________________________________________________________________________________________\n",
      "input_40 (InputLayer)           (None, 1)            0                                            \n",
      "__________________________________________________________________________________________________\n",
      "input_41 (InputLayer)           (None, 1)            0                                            \n",
      "__________________________________________________________________________________________________\n",
      "lstm_6 (LSTM)                   (None, 400, 128)     219648      embedding_31[0][0]               \n",
      "__________________________________________________________________________________________________\n",
      "embedding_32 (Embedding)        (None, 1, 26)        1352        input_37[0][0]                   \n",
      "__________________________________________________________________________________________________\n",
      "embedding_33 (Embedding)        (None, 1, 26)        1352        input_38[0][0]                   \n",
      "__________________________________________________________________________________________________\n",
      "embedding_34 (Embedding)        (None, 1, 26)        1352        input_39[0][0]                   \n",
      "__________________________________________________________________________________________________\n",
      "embedding_35 (Embedding)        (None, 1, 50)        19500       input_40[0][0]                   \n",
      "__________________________________________________________________________________________________\n",
      "embedding_36 (Embedding)        (None, 1, 3)         18          input_41[0][0]                   \n",
      "__________________________________________________________________________________________________\n",
      "input_42 (InputLayer)           (None, 1)            0                                            \n",
      "__________________________________________________________________________________________________\n",
      "flatten_31 (Flatten)            (None, 51200)        0           lstm_6[0][0]                     \n",
      "__________________________________________________________________________________________________\n",
      "flatten_32 (Flatten)            (None, 26)           0           embedding_32[0][0]               \n",
      "__________________________________________________________________________________________________\n",
      "flatten_33 (Flatten)            (None, 26)           0           embedding_33[0][0]               \n",
      "__________________________________________________________________________________________________\n",
      "flatten_34 (Flatten)            (None, 26)           0           embedding_34[0][0]               \n",
      "__________________________________________________________________________________________________\n",
      "flatten_35 (Flatten)            (None, 50)           0           embedding_35[0][0]               \n",
      "__________________________________________________________________________________________________\n",
      "flatten_36 (Flatten)            (None, 3)            0           embedding_36[0][0]               \n",
      "__________________________________________________________________________________________________\n",
      "dense_28 (Dense)                (None, 16)           32          input_42[0][0]                   \n",
      "__________________________________________________________________________________________________\n",
      "concatenate_6 (Concatenate)     (None, 51347)        0           flatten_31[0][0]                 \n",
      "                                                                 flatten_32[0][0]                 \n",
      "                                                                 flatten_33[0][0]                 \n",
      "                                                                 flatten_34[0][0]                 \n",
      "                                                                 flatten_35[0][0]                 \n",
      "                                                                 flatten_36[0][0]                 \n",
      "                                                                 dense_28[0][0]                   \n",
      "__________________________________________________________________________________________________\n",
      "batch_normalization_7 (BatchNor (None, 51347)        205388      concatenate_6[0][0]              \n",
      "__________________________________________________________________________________________________\n",
      "dense_29 (Dense)                (None, 256)          13145088    batch_normalization_7[0][0]      \n",
      "__________________________________________________________________________________________________\n",
      "dropout_9 (Dropout)             (None, 256)          0           dense_29[0][0]                   \n",
      "__________________________________________________________________________________________________\n",
      "batch_normalization_8 (BatchNor (None, 256)          1024        dropout_9[0][0]                  \n",
      "__________________________________________________________________________________________________\n",
      "dense_30 (Dense)                (None, 128)          32896       batch_normalization_8[0][0]      \n",
      "__________________________________________________________________________________________________\n",
      "dropout_10 (Dropout)            (None, 128)          0           dense_30[0][0]                   \n",
      "__________________________________________________________________________________________________\n",
      "dense_31 (Dense)                (None, 64)           8256        dropout_10[0][0]                 \n",
      "__________________________________________________________________________________________________\n",
      "dropout_11 (Dropout)            (None, 64)           0           dense_31[0][0]                   \n",
      "__________________________________________________________________________________________________\n",
      "dense_32 (Dense)                (None, 32)           2080        dropout_11[0][0]                 \n",
      "__________________________________________________________________________________________________\n",
      "dropout_12 (Dropout)            (None, 32)           0           dense_32[0][0]                   \n",
      "__________________________________________________________________________________________________\n",
      "dense_33 (Dense)                (None, 16)           528         dropout_12[0][0]                 \n",
      "__________________________________________________________________________________________________\n",
      "dense_34 (Dense)                (None, 2)            34          dense_33[0][0]                   \n",
      "==================================================================================================\n",
      "Total params: 20,566,448\n",
      "Trainable params: 13,535,342\n",
      "Non-trainable params: 7,031,106\n",
      "__________________________________________________________________________________________________\n"
     ]
    }
   ],
   "source": [
    "model2.summary()"
   ]
  },
  {
   "cell_type": "code",
   "execution_count": 62,
   "metadata": {
    "colab": {
     "base_uri": "https://localhost:8080/",
     "height": 519
    },
    "colab_type": "code",
    "id": "qNOomVWS8L3a",
    "outputId": "a770cda1-0c86-4163-c651-67809e21ed84"
   },
   "outputs": [
    {
     "data": {
      "image/png": "[encoded data removed]",
      "text/plain": [
       "<IPython.core.display.Image object>"
      ]
     },
     "execution_count": 62,
     "metadata": {
      "tags": []
     },
     "output_type": "execute_result"
    }
   ],
   "source": [
    "#https://machinelearningmastery.com/visualize-deep-learning-neural-network-model-keras/\n",
    "from keras.utils.vis_utils import plot_model\n",
    "plot_model(model2, to_file='/content/drive/My Drive/LSTM_Output/model_2.png', show_shapes=True, show_layer_names=True)"
   ]
  },
  {
   "cell_type": "code",
   "execution_count": 38,
   "metadata": {
    "colab": {},
    "colab_type": "code",
    "id": "1SpiZo9Qy03v"
   },
   "outputs": [],
   "source": [
    "x_train = [essay_padded_train ,x_train_sch_state,x_train_proj_grade,x_train_clean_cat,x_train_clean_sub_cat,x_train_teacher_prefix,x_train_num]\n",
    "x_test = [essay_padded_test,x_test_sch_state,x_test_proj_grade,x_test_clean_cat,x_test_clean_sub_cat,x_test_teacher_prefix,x_test_num]\n",
    "x_cv = [essay_padded_cv ,x_cv_sch_state,x_cv_proj_grade,x_cv_clean_cat,x_cv_clean_sub_cat,x_cv_teacher_prefix,x_cv_num]"
   ]
  },
  {
   "cell_type": "code",
   "execution_count": 39,
   "metadata": {
    "colab": {},
    "colab_type": "code",
    "id": "cQCLsgG84V7I"
   },
   "outputs": [],
   "source": [
    "#https://stackoverflow.com/posts/51734992/revisions\n",
    "import tensorflow as tf\n",
    "from sklearn.metrics import roc_auc_score\n",
    "\n",
    "def auroc(y_true, y_pred):\n",
    "    return tf.py_function(roc_auc_score, (y_true, y_pred), tf.double)"
   ]
  },
  {
   "cell_type": "code",
   "execution_count": 63,
   "metadata": {
    "colab": {},
    "colab_type": "code",
    "id": "_IrMG8CS4ZiQ"
   },
   "outputs": [],
   "source": [
    "adam = keras.optimizers.Adam(lr=0.0001)\n",
    "model2.compile(optimizer=adam, loss='categorical_crossentropy',metrics=[auroc])"
   ]
  },
  {
   "cell_type": "code",
   "execution_count": 64,
   "metadata": {
    "colab": {},
    "colab_type": "code",
    "id": "P4QWT-uWgO5h"
   },
   "outputs": [],
   "source": [
    "from keras.callbacks import *\n",
    "filepath=\"/content/drive/My Drive/LSTM_Output/epochs:{epoch:03d}-val_acc:{val_auroc:.3f}.hdf5\"\n",
    "checkpoint_2 = ModelCheckpoint(filepath, monitor='val_acc', verbose=1, mode='max')"
   ]
  },
  {
   "cell_type": "code",
   "execution_count": 41,
   "metadata": {
    "colab": {
     "base_uri": "https://localhost:8080/",
     "height": 36
    },
    "colab_type": "code",
    "id": "8kdhICQUmQpL",
    "outputId": "3a7bcdaa-86d2-47a5-a810-d582c8e02e0d"
   },
   "outputs": [
    {
     "data": {
      "text/plain": [
       "(69918, 2)"
      ]
     },
     "execution_count": 41,
     "metadata": {
      "tags": []
     },
     "output_type": "execute_result"
    }
   ],
   "source": [
    "y_train.shape"
   ]
  },
  {
   "cell_type": "code",
   "execution_count": 65,
   "metadata": {
    "colab": {
     "base_uri": "https://localhost:8080/",
     "height": 1000
    },
    "colab_type": "code",
    "id": "fR03i19l4ssU",
    "outputId": "a1e678df-df79-4a8e-a14f-83704c9cb390"
   },
   "outputs": [
    {
     "name": "stdout",
     "output_type": "stream",
     "text": [
      "Train on 69918 samples, validate on 17480 samples\n",
      "Epoch 1/20\n",
      "69918/69918 [==============================] - 219s 3ms/step - loss: 1.6118 - auroc: 0.5069 - val_loss: 1.2884 - val_auroc: 0.5343\n",
      "\n",
      "Epoch 00001: saving model to /content/drive/My Drive/LSTM_Output/epochs:001-val_acc:0.534.hdf5\n",
      "Epoch 2/20\n",
      "69918/69918 [==============================] - 213s 3ms/step - loss: 1.2814 - auroc: 0.5174 - val_loss: 1.2380 - val_auroc: 0.5741\n",
      "\n",
      "Epoch 00002: saving model to /content/drive/My Drive/LSTM_Output/epochs:002-val_acc:0.574.hdf5\n",
      "Epoch 3/20\n",
      "69918/69918 [==============================] - 214s 3ms/step - loss: 1.2054 - auroc: 0.5347 - val_loss: 1.2141 - val_auroc: 0.5765\n",
      "\n",
      "Epoch 00003: saving model to /content/drive/My Drive/LSTM_Output/epochs:003-val_acc:0.577.hdf5\n",
      "Epoch 4/20\n",
      "69918/69918 [==============================] - 214s 3ms/step - loss: 1.1531 - auroc: 0.5565 - val_loss: 1.1867 - val_auroc: 0.6101\n",
      "\n",
      "Epoch 00004: saving model to /content/drive/My Drive/LSTM_Output/epochs:004-val_acc:0.610.hdf5\n",
      "Epoch 5/20\n",
      "69918/69918 [==============================] - 218s 3ms/step - loss: 1.1158 - auroc: 0.5726 - val_loss: 1.1642 - val_auroc: 0.6340\n",
      "\n",
      "Epoch 00005: saving model to /content/drive/My Drive/LSTM_Output/epochs:005-val_acc:0.634.hdf5\n",
      "Epoch 6/20\n",
      "69918/69918 [==============================] - 215s 3ms/step - loss: 1.0844 - auroc: 0.5874 - val_loss: 1.1376 - val_auroc: 0.6335\n",
      "\n",
      "Epoch 00006: saving model to /content/drive/My Drive/LSTM_Output/epochs:006-val_acc:0.634.hdf5\n",
      "Epoch 7/20\n",
      "69918/69918 [==============================] - 213s 3ms/step - loss: 1.0539 - auroc: 0.6030 - val_loss: 1.1112 - val_auroc: 0.6488\n",
      "\n",
      "Epoch 00007: saving model to /content/drive/My Drive/LSTM_Output/epochs:007-val_acc:0.649.hdf5\n",
      "Epoch 8/20\n",
      "69918/69918 [==============================] - 218s 3ms/step - loss: 1.0289 - auroc: 0.6122 - val_loss: 1.0982 - val_auroc: 0.6606\n",
      "\n",
      "Epoch 00008: saving model to /content/drive/My Drive/LSTM_Output/epochs:008-val_acc:0.661.hdf5\n",
      "Epoch 9/20\n",
      "69918/69918 [==============================] - 212s 3ms/step - loss: 1.0026 - auroc: 0.6291 - val_loss: 1.0766 - val_auroc: 0.6528\n",
      "\n",
      "Epoch 00009: saving model to /content/drive/My Drive/LSTM_Output/epochs:009-val_acc:0.653.hdf5\n",
      "Epoch 10/20\n",
      "69918/69918 [==============================] - 210s 3ms/step - loss: 0.9778 - auroc: 0.6375 - val_loss: 1.0508 - val_auroc: 0.6672\n",
      "\n",
      "Epoch 00010: saving model to /content/drive/My Drive/LSTM_Output/epochs:010-val_acc:0.667.hdf5\n",
      "Epoch 11/20\n",
      "69918/69918 [==============================] - 213s 3ms/step - loss: 0.9547 - auroc: 0.6498 - val_loss: 1.0258 - val_auroc: 0.6788\n",
      "\n",
      "Epoch 00011: saving model to /content/drive/My Drive/LSTM_Output/epochs:011-val_acc:0.679.hdf5\n",
      "Epoch 12/20\n",
      "69918/69918 [==============================] - 215s 3ms/step - loss: 0.9300 - auroc: 0.6617 - val_loss: 1.0036 - val_auroc: 0.6613\n",
      "\n",
      "Epoch 00012: saving model to /content/drive/My Drive/LSTM_Output/epochs:012-val_acc:0.661.hdf5\n",
      "Epoch 13/20\n",
      "69918/69918 [==============================] - 214s 3ms/step - loss: 0.9073 - auroc: 0.6717 - val_loss: 0.9793 - val_auroc: 0.6779\n",
      "\n",
      "Epoch 00013: saving model to /content/drive/My Drive/LSTM_Output/epochs:013-val_acc:0.678.hdf5\n",
      "Epoch 14/20\n",
      "69918/69918 [==============================] - 215s 3ms/step - loss: 0.8863 - auroc: 0.6780 - val_loss: 0.9593 - val_auroc: 0.6774\n",
      "\n",
      "Epoch 00014: saving model to /content/drive/My Drive/LSTM_Output/epochs:014-val_acc:0.677.hdf5\n",
      "Epoch 15/20\n",
      "69918/69918 [==============================] - 214s 3ms/step - loss: 0.8635 - auroc: 0.6902 - val_loss: 0.9328 - val_auroc: 0.6805\n",
      "\n",
      "Epoch 00015: saving model to /content/drive/My Drive/LSTM_Output/epochs:015-val_acc:0.680.hdf5\n",
      "Epoch 16/20\n",
      "69918/69918 [==============================] - 214s 3ms/step - loss: 0.8428 - auroc: 0.6957 - val_loss: 0.9132 - val_auroc: 0.6729\n",
      "\n",
      "Epoch 00016: saving model to /content/drive/My Drive/LSTM_Output/epochs:016-val_acc:0.673.hdf5\n",
      "Epoch 17/20\n",
      "69918/69918 [==============================] - 217s 3ms/step - loss: 0.8218 - auroc: 0.7062 - val_loss: 0.8913 - val_auroc: 0.6837\n",
      "\n",
      "Epoch 00017: saving model to /content/drive/My Drive/LSTM_Output/epochs:017-val_acc:0.684.hdf5\n",
      "Epoch 18/20\n",
      "69918/69918 [==============================] - 216s 3ms/step - loss: 0.7996 - auroc: 0.7188 - val_loss: 0.8736 - val_auroc: 0.6854\n",
      "\n",
      "Epoch 00018: saving model to /content/drive/My Drive/LSTM_Output/epochs:018-val_acc:0.685.hdf5\n",
      "Epoch 19/20\n",
      "69918/69918 [==============================] - 215s 3ms/step - loss: 0.7801 - auroc: 0.7267 - val_loss: 0.8503 - val_auroc: 0.6737\n",
      "\n",
      "Epoch 00019: saving model to /content/drive/My Drive/LSTM_Output/epochs:019-val_acc:0.674.hdf5\n",
      "Epoch 20/20\n",
      "69918/69918 [==============================] - 217s 3ms/step - loss: 0.7612 - auroc: 0.7354 - val_loss: 0.8364 - val_auroc: 0.6806\n",
      "\n",
      "Epoch 00020: saving model to /content/drive/My Drive/LSTM_Output/epochs:020-val_acc:0.681.hdf5\n"
     ]
    }
   ],
   "source": [
    "filepath = \"/content/drive/My Drive/weights_2.best.hdf5\"\n",
    "earlystopping2 = EarlyStopping(monitor='val_loss', patience=2, verbose=1)\n",
    "\n",
    "#checkpoint2 = ModelCheckpoint(filepath, monitor='val_auc', verbose=1, save_best_only=True, mode='max')\n",
    "tensorboard = TensorBoard(log_dir=\"/content/drive/My Drive/LSTM_Output/logs/{}\".format(time()))\n",
    "callbacks_list = [checkpoint_2,tensorboard, earlystopping2]#, reduce_lr2]\n",
    "\n",
    "history2= model2.fit(x_train, y_train, epochs=20, verbose=1, batch_size=512, validation_data=(x_cv  , y_cv),callbacks=callbacks_list)\n",
    "#model2.save('/content/drive/My Drive/weights_2.best.hdf5')"
   ]
  },
  {
   "cell_type": "code",
   "execution_count": 67,
   "metadata": {
    "colab": {},
    "colab_type": "code",
    "id": "ODw2_B1ZRoH3"
   },
   "outputs": [],
   "source": [
    "model2.save('/content/drive/My Drive/weights_2.best.hdf5')"
   ]
  },
  {
   "cell_type": "code",
   "execution_count": 70,
   "metadata": {
    "colab": {},
    "colab_type": "code",
    "id": "HFK4kcwptQkW"
   },
   "outputs": [],
   "source": [
    "from keras.optimizers import Adam\n",
    "#input 1\n",
    "input_1 = Input(shape=(400,))\n",
    "x1 =Embedding(vocab_size, 300, weights=[embedding_matrix], input_length=400, trainable=False)(input_1)\n",
    "#what are spartial dropouts - https://machinelearningmastery.com/how-to-reduce-overfitting-with-dropout-regularization-in-keras/\n",
    "#https://stackoverflow.com/questions/50393666/how-to-understand-spatialdropout1d-and-when-to-use-it\n",
    "x1 = LSTM(128,activation='relu',return_sequences=True, recurrent_dropout=0.5)(x1)\n",
    "x1 = Flatten()(x1)\n",
    "\n",
    "#input 2\n",
    "input_2 = Input(shape=(1,))#school_state\n",
    "x2 = Embedding(input_dim= 52, output_dim= min(52//2,50))(input_2)\n",
    "x2 = Flatten()(x2)\n",
    "\n",
    "#input 3\n",
    "input_3 = Input(shape=(1,)) #project_grade\n",
    "x3 = Embedding(input_dim = 52, output_dim= min(52//2,50))(input_3)\n",
    "x3 = Flatten()(x3)\n",
    "\n",
    "#input 4\n",
    "input_4 = Input(shape=(1,)) #clean_categories\n",
    "x4 = Embedding(input_dim=52,output_dim= min(52//2,50))(input_4)\n",
    "x4 = Flatten()(x4)\n",
    "\n",
    "#input 5\n",
    "input_5 = Input(shape=(1,)) #clean_subcategories\n",
    "x5 = Embedding(input_dim= 390, output_dim= min(390//2,50))(input_5)\n",
    "x5 = Flatten()(x5)\n",
    "\n",
    "#input 6\n",
    "input_6 = Input(shape=(1,))#teacher_prefix\n",
    "x6 = Embedding(input_dim= 6,output_dim= min(3,50))(input_6)\n",
    "x6 = Flatten()(x6)\n",
    "\n",
    "#input 7\n",
    "input_7 = Input(shape=(1,)) #numerical\n",
    "x7 = Dense(16,activation='relu',kernel_initializer=he_normal(),kernel_regularizer=l2(0.0001))(input_7)\n",
    "\n",
    "#merging all the inputs \n",
    "x = concatenate([x1,x2,x3,x4,x5,x6,x7])\n",
    "\n",
    "x=BatchNormalization()(x)\n",
    "#x= Dense(1024, activation='relu')(x)\n",
    "#x= LeakyReLU(alpha = 0.3)(x)\n",
    "#x= Dropout(0.8)(x)\n",
    "#x= Dense(512, activation='relu')(x)\n",
    "#x= LeakyReLU(alpha = 0.3)(x)\n",
    "#x= Dropout(0.7)(x)\n",
    "x= Dense(256,kernel_initializer=he_normal(),activation='relu',kernel_regularizer=l2(0.001))(x)\n",
    "#x= LeakyReLU(alpha = 0.3)(x)\n",
    "x= Dropout(0.6)(x)\n",
    "x=BatchNormalization()(x)\n",
    "x= Dense(128,kernel_initializer=he_normal(),activation='relu',kernel_regularizer=l2(0.001))(x)\n",
    "#x= LeakyReLU(alpha = 0.3)(x)\n",
    "x= Dropout(0.5)(x)\n",
    "x= Dense(64,kernel_initializer=he_normal(),activation='relu',kernel_regularizer=l2(0.001))(x)\n",
    "#x= LeakyReLU(alpha = 0.3)(x)\n",
    "x= Dropout(0.4)(x)\n",
    "#x= Dense(1024)(x)\n",
    "#x= LeakyReLU(alpha = 0.3)(x)\n",
    "#x= Dropout(0.5)(x)\n",
    "#x=BatchNormalization()(x)\n",
    "x= Dense(32,kernel_initializer=he_normal(),activation='relu',kernel_regularizer=l2(0.001))(x)\n",
    "#x= LeakyReLU(alpha = 0.3)(x)\n",
    "x= Dropout(0.5)(x)\n",
    "#x=BatchNormalization()(x)\n",
    "x= Dense(16,activation='relu',kernel_initializer=he_normal(),kernel_regularizer=l2(0.002))(x)\n",
    "#x= LeakyReLU(alpha = 0.3)(x)\n",
    "#x= Dropout(0.25)(x)\n",
    "output=Dense(2, activation='softmax')(x)\n",
    "model2 = Model([input_1, input_2, input_3, input_4, input_5, input_6, input_7], output)\n",
    "\n",
    "#tensorboard = TensorBoard(log_dir=\"logs\".format(time()))\n",
    "#tensorboard = TensorBoard(log_dir=\"/content/drive/My Drive/LSTM_Output/logs/{}\".format(time()))\n",
    "#model2.compile(loss='categorical_crossentropy', optimizer=Adam(lr=0.0006,decay = 1e-4), metrics=[auroc])\n",
    "model2.load_weights(\"/content/drive/My Drive/LSTM_Output/epochs:018-val_acc:0.685.hdf5\")"
   ]
  },
  {
   "cell_type": "code",
   "execution_count": 71,
   "metadata": {
    "colab": {
     "base_uri": "https://localhost:8080/",
     "height": 73
    },
    "colab_type": "code",
    "id": "dPHUBxESt3hV",
    "outputId": "e468c141-1f68-427d-990c-e2a9504a6797"
   },
   "outputs": [
    {
     "name": "stdout",
     "output_type": "stream",
     "text": [
      "Auc for test data: 0.699\n",
      "Auc for CV data: 0.684\n",
      "Auc for train data: 0.771\n"
     ]
    }
   ],
   "source": [
    "print(\"Auc for test data: %0.3f\"%roc_auc_score(y_test,model2.predict(x_test)))\n",
    "print(\"Auc for CV data: %0.3f\"%roc_auc_score(y_cv,model2.predict(x_cv)))\n",
    "print(\"Auc for train data: %0.3f\"%roc_auc_score(y_train,model2.predict(x_train)))"
   ]
  },
  {
   "cell_type": "code",
   "execution_count": 72,
   "metadata": {
    "colab": {},
    "colab_type": "code",
    "id": "luFOkr2EUJEk"
   },
   "outputs": [],
   "source": [
    "def plt_dynamic(x, vy, ty, ax, colors=['b']):\n",
    "    ax.plot(x, vy, 'b', label=\"Validation Loss\")\n",
    "    ax.plot(x, ty, 'r', label=\"Train Loss\")\n",
    "    plt.legend()\n",
    "    plt.grid()\n",
    "    fig.canvas.draw()"
   ]
  },
  {
   "cell_type": "code",
   "execution_count": 73,
   "metadata": {
    "colab": {
     "base_uri": "https://localhost:8080/",
     "height": 279
    },
    "colab_type": "code",
    "id": "q67TnudpUQyT",
    "outputId": "d23e15e3-8f19-4dee-cc21-8e87b830ebe8"
   },
   "outputs": [
    {
     "data": {
      "image/png": "[encoded data removed]",
      "text/plain": [
       "<Figure size 432x288 with 1 Axes>"
      ]
     },
     "metadata": {
      "needs_background": "light",
      "tags": []
     },
     "output_type": "display_data"
    }
   ],
   "source": [
    "fig,ax = plt.subplots(1,1)\n",
    "ax.set_xlabel('epoch') ; ax.set_ylabel('binary Crossentropy Loss')\n",
    "\n",
    "# list of epoch numbers\n",
    "x = list(range(1,20+1))\n",
    "\n",
    "# print(history.history.keys())\n",
    "# dict_keys(['val_loss', 'val_acc', 'loss', 'acc'])\n",
    "# history = model_drop.fit(X_train, Y_train, batch_size=batch_size, epochs=nb_epoch, verbose=1, validation_data=(X_test, Y_test))\n",
    "\n",
    "# we will get val_loss and val_acc only when you pass the paramter validation_data\n",
    "# val_loss : validation loss\n",
    "# val_acc : validation accuracy\n",
    "\n",
    "# loss : training loss\n",
    "# acc : train accuracy\n",
    "# for each key in histrory.histrory we will have a list of length equal to number of epochs\n",
    "\n",
    "\n",
    "vy = history2.history['val_loss']\n",
    "ty = history2.history['loss']\n",
    "plt_dynamic(x, vy, ty, ax)"
   ]
  },
  {
   "cell_type": "code",
   "execution_count": 74,
   "metadata": {
    "colab": {},
    "colab_type": "code",
    "id": "NvJyeLsAUYac"
   },
   "outputs": [],
   "source": [
    "def plt_dynamic(x, vy, ty, ax, colors=['b']):\n",
    "    ax.plot(x, vy, 'b', label=\"Validation auroc\")\n",
    "    ax.plot(x, ty, 'r', label=\"Train auroc\")\n",
    "    plt.legend()\n",
    "    plt.grid()\n",
    "    fig.canvas.draw()"
   ]
  },
  {
   "cell_type": "code",
   "execution_count": 75,
   "metadata": {
    "colab": {
     "base_uri": "https://localhost:8080/",
     "height": 279
    },
    "colab_type": "code",
    "id": "XtCKXS7UUflN",
    "outputId": "b6107ec0-d72c-4c1a-f2f9-e5dde849af06"
   },
   "outputs": [
    {
     "data": {
      "image/png": "[encoded data removed]",
      "text/plain": [
       "<Figure size 432x288 with 1 Axes>"
      ]
     },
     "metadata": {
      "needs_background": "light",
      "tags": []
     },
     "output_type": "display_data"
    }
   ],
   "source": [
    "fig,ax = plt.subplots(1,1)\n",
    "ax.set_xlabel('epoch') ; ax.set_ylabel('binary Crossentropy Loss')\n",
    "\n",
    "vy = history2.history['val_auroc']\n",
    "ty = history2.history['auroc']\n",
    "plt_dynamic(x, vy, ty, ax)"
   ]
  },
  {
   "cell_type": "markdown",
   "metadata": {
    "colab_type": "text",
    "id": "JC1iggsVB2yw"
   },
   "source": [
    "#Assignment- 3"
   ]
  },
  {
   "cell_type": "markdown",
   "metadata": {
    "colab_type": "text",
    "id": "xFCqZyTHGdik"
   },
   "source": [
    "#One-Hot Encoding Categoical Values"
   ]
  },
  {
   "cell_type": "code",
   "execution_count": null,
   "metadata": {
    "colab": {
     "base_uri": "https://localhost:8080/",
     "height": 73
    },
    "colab_type": "code",
    "id": "A7MOLJT6GySz",
    "outputId": "7791fd26-dfc0-494d-d6af-4f05083d50da"
   },
   "outputs": [
    {
     "data": {
      "text/plain": [
       "Index(['school_state', 'teacher_prefix', 'project_grade_category',\n",
       "       'clean_categories', 'clean_subcategories', 'essay', 'remaining_input'],\n",
       "      dtype='object')"
      ]
     },
     "execution_count": 99,
     "metadata": {
      "tags": []
     },
     "output_type": "execute_result"
    }
   ],
   "source": [
    "X_train.columns"
   ]
  },
  {
   "cell_type": "code",
   "execution_count": null,
   "metadata": {
    "colab": {
     "base_uri": "https://localhost:8080/",
     "height": 131
    },
    "colab_type": "code",
    "id": "PaoMqfwoBJkV",
    "outputId": "27f58022-ed00-455a-c3ed-581cb7507e75"
   },
   "outputs": [
    {
     "name": "stdout",
     "output_type": "stream",
     "text": [
      "(69918, 51) (69918, 2)\n",
      "(17480, 51) (17480, 2)\n",
      "(21850, 51) (21850, 2)\n",
      "['ak', 'al', 'ar', 'az', 'ca', 'co', 'ct', 'dc', 'de', 'fl', 'ga', 'hi', 'ia', 'id', 'il', 'in', 'ks', 'ky', 'la', 'ma', 'md', 'me', 'mi', 'mn', 'mo', 'ms', 'mt', 'nc', 'nd', 'ne', 'nh', 'nj', 'nm', 'nv', 'ny', 'oh', 'ok', 'or', 'pa', 'ri', 'sc', 'sd', 'tn', 'tx', 'ut', 'va', 'vt', 'wa', 'wi', 'wv', 'wy']\n",
      "****************************************************************************************************\n"
     ]
    }
   ],
   "source": [
    "# Convert all your Categorical values to onehot coded and then concatenate all these onehot vectors\n",
    "# Neumerical values\n",
    "\n",
    "# One hot encoding of Categorical Feature\n",
    "# - school_state : categorical data\n",
    "vectorizer = CountVectorizer()\n",
    "vectorizer.fit(X_train['school_state'].values)# Training\n",
    "\n",
    "X_train_school_state_ohe = vectorizer.transform(X_train['school_state'].values)\n",
    "X_cv_school_state_ohe = vectorizer.transform(X_cv['school_state'].values)\n",
    "X_test_school_state_ohe = vectorizer.transform(X_test['school_state'].values)\n",
    "\n",
    "school_state_features = vectorizer.get_feature_names()\n",
    "\n",
    "print(X_train_school_state_ohe.shape, y_train.shape)\n",
    "print(X_cv_school_state_ohe.shape, y_cv.shape)\n",
    "print(X_test_school_state_ohe.shape, y_test.shape)\n",
    "print(vectorizer.get_feature_names())\n",
    "print('*'*100)\n",
    "\n"
   ]
  },
  {
   "cell_type": "code",
   "execution_count": null,
   "metadata": {
    "colab": {
     "base_uri": "https://localhost:8080/",
     "height": 111
    },
    "colab_type": "code",
    "id": "DQXyOYbQHkNM",
    "outputId": "8a1df965-c8c8-4db1-d702-b206885fcf7e"
   },
   "outputs": [
    {
     "name": "stdout",
     "output_type": "stream",
     "text": [
      "(69918, 5) (69918, 2)\n",
      "(17480, 5) (17480, 2)\n",
      "(21850, 5) (21850, 2)\n",
      "['dr', 'mr', 'mrs', 'ms', 'teacher']\n",
      "****************************************************************************************************\n"
     ]
    }
   ],
   "source": [
    "# Convert all your Categorical values to onehot coded and then concatenate all these onehot vectors\n",
    "# Neumerical values\n",
    "\n",
    "# One hot encoding of Categorical Feature\n",
    "# - teacher_prefix : categorical data\n",
    "vectorizer = CountVectorizer()\n",
    "vectorizer.fit(X_train['teacher_prefix'].values)# Training\n",
    "\n",
    "X_train_teacher_prefix_ohe = vectorizer.transform(X_train['teacher_prefix'].values)\n",
    "X_cv_teacher_prefix_ohe = vectorizer.transform(X_cv['teacher_prefix'].values)\n",
    "X_test_teacher_prefix_ohe = vectorizer.transform(X_test['teacher_prefix'].values)\n",
    "\n",
    "teacher_prefix_features = vectorizer.get_feature_names()\n",
    "\n",
    "print(X_train_teacher_prefix_ohe.shape, y_train.shape)\n",
    "print(X_cv_teacher_prefix_ohe.shape, y_cv.shape)\n",
    "print(X_test_teacher_prefix_ohe.shape, y_test.shape)\n",
    "print(vectorizer.get_feature_names())\n",
    "print('*'*100)\n",
    "\n"
   ]
  },
  {
   "cell_type": "code",
   "execution_count": null,
   "metadata": {
    "colab": {
     "base_uri": "https://localhost:8080/",
     "height": 111
    },
    "colab_type": "code",
    "id": "bEfSMJjTIKHR",
    "outputId": "6321308b-f902-4500-d472-4f622553d702"
   },
   "outputs": [
    {
     "name": "stdout",
     "output_type": "stream",
     "text": [
      "(69918, 4) (69918, 2)\n",
      "(17480, 4) (17480, 2)\n",
      "(21850, 4) (21850, 2)\n",
      "['grades35', 'grades68', 'grades912', 'gradesprek2']\n",
      "****************************************************************************************************\n"
     ]
    }
   ],
   "source": [
    "# Convert all your Categorical values to onehot coded and then concatenate all these onehot vectors\n",
    "# Neumerical values\n",
    "\n",
    "# One hot encoding of Categorical Feature\n",
    "# - project_grade_category : categorical data\n",
    "vectorizer = CountVectorizer()\n",
    "vectorizer.fit(X_train['project_grade_category'].values)# Training\n",
    "\n",
    "X_train_project_grade_category_ohe = vectorizer.transform(X_train['project_grade_category'].values)\n",
    "X_cv_project_grade_category_ohe = vectorizer.transform(X_cv['project_grade_category'].values)\n",
    "X_test_project_grade_category_ohe = vectorizer.transform(X_test['project_grade_category'].values)\n",
    "\n",
    "project_grade_category_features = vectorizer.get_feature_names()\n",
    "\n",
    "print(X_train_project_grade_category_ohe.shape, y_train.shape)\n",
    "print(X_cv_project_grade_category_ohe.shape, y_cv.shape)\n",
    "print(X_test_project_grade_category_ohe.shape, y_test.shape)\n",
    "print(vectorizer.get_feature_names())\n",
    "print('*'*100)\n",
    "\n"
   ]
  },
  {
   "cell_type": "code",
   "execution_count": null,
   "metadata": {
    "colab": {
     "base_uri": "https://localhost:8080/",
     "height": 131
    },
    "colab_type": "code",
    "id": "fY2T6PT8IdlU",
    "outputId": "bec8de8a-3e51-42f8-c5ab-f2cb8e4772a0"
   },
   "outputs": [
    {
     "name": "stdout",
     "output_type": "stream",
     "text": [
      "(69918, 9) (69918, 2)\n",
      "(17480, 9) (17480, 2)\n",
      "(21850, 9) (21850, 2)\n",
      "['appliedlearning', 'care_hunger', 'health_sports', 'history_civics', 'literacy_language', 'math_science', 'music_arts', 'specialneeds', 'warmth']\n",
      "****************************************************************************************************\n"
     ]
    }
   ],
   "source": [
    "# Convert all your Categorical values to onehot coded and then concatenate all these onehot vectors\n",
    "# Neumerical values\n",
    "\n",
    "# One hot encoding of Categorical Feature\n",
    "# - clean_categories : categorical data\n",
    "vectorizer = CountVectorizer()\n",
    "vectorizer.fit(X_train['clean_categories'].values)# Training\n",
    "\n",
    "X_train_clean_categories_ohe = vectorizer.transform(X_train['clean_categories'].values)\n",
    "X_cv_clean_categories_ohe = vectorizer.transform(X_cv['clean_categories'].values)\n",
    "X_test_clean_categories_ohe = vectorizer.transform(X_test['clean_categories'].values)\n",
    "\n",
    "project_grade_category_features = vectorizer.get_feature_names()\n",
    "\n",
    "print(X_train_clean_categories_ohe.shape, y_train.shape)\n",
    "print(X_cv_clean_categories_ohe.shape, y_cv.shape)\n",
    "print(X_test_clean_categories_ohe.shape, y_test.shape)\n",
    "print(vectorizer.get_feature_names())\n",
    "print('*'*100)\n",
    "\n"
   ]
  },
  {
   "cell_type": "code",
   "execution_count": null,
   "metadata": {
    "colab": {
     "base_uri": "https://localhost:8080/",
     "height": 131
    },
    "colab_type": "code",
    "id": "lLpnuTuiIwwD",
    "outputId": "7fa8e408-f85c-41a1-d4aa-6149345c43ee"
   },
   "outputs": [
    {
     "name": "stdout",
     "output_type": "stream",
     "text": [
      "(69918, 30) (69918, 2)\n",
      "(17480, 30) (17480, 2)\n",
      "(21850, 30) (21850, 2)\n",
      "['appliedsciences', 'care_hunger', 'charactereducation', 'civics_government', 'college_careerprep', 'communityservice', 'earlydevelopment', 'economics', 'environmentalscience', 'esl', 'extracurricular', 'financialliteracy', 'foreignlanguages', 'gym_fitness', 'health_lifescience', 'health_wellness', 'history_geography', 'literacy', 'literature_writing', 'mathematics', 'music', 'nutritioneducation', 'other', 'parentinvolvement', 'performingarts', 'socialsciences', 'specialneeds', 'teamsports', 'visualarts', 'warmth']\n",
      "****************************************************************************************************\n"
     ]
    }
   ],
   "source": [
    "# Convert all your Categorical values to onehot coded and then concatenate all these onehot vectors\n",
    "# Neumerical values\n",
    "\n",
    "# One hot encoding of Categorical Feature\n",
    "# - clean_subcategories : categorical data\n",
    "vectorizer = CountVectorizer()\n",
    "vectorizer.fit(X_train['clean_subcategories'].values)# Training\n",
    "\n",
    "X_train_clean_subcategories_ohe = vectorizer.transform(X_train['clean_subcategories'].values)\n",
    "X_cv_clean_subcategories_ohe = vectorizer.transform(X_cv['clean_subcategories'].values)\n",
    "X_test_clean_subcategories_ohe = vectorizer.transform(X_test['clean_subcategories'].values)\n",
    "\n",
    "project_grade_subcategory_features = vectorizer.get_feature_names()\n",
    "\n",
    "print(X_train_clean_subcategories_ohe.shape, y_train.shape)\n",
    "print(X_cv_clean_subcategories_ohe.shape, y_cv.shape)\n",
    "print(X_test_clean_subcategories_ohe.shape, y_test.shape)\n",
    "print(vectorizer.get_feature_names())\n",
    "print('*'*100)\n",
    "\n"
   ]
  },
  {
   "cell_type": "code",
   "execution_count": null,
   "metadata": {
    "colab": {
     "base_uri": "https://localhost:8080/",
     "height": 167
    },
    "colab_type": "code",
    "id": "aCcjzrrtI_t7",
    "outputId": "19eb8e42-6fa5-4922-b927-db3abebc4254"
   },
   "outputs": [
    {
     "name": "stdout",
     "output_type": "stream",
     "text": [
      "(69918, 1)\n",
      "[[1.]\n",
      " [1.]\n",
      " [1.]\n",
      " ...\n",
      " [1.]\n",
      " [1.]\n",
      " [1.]]\n"
     ]
    }
   ],
   "source": [
    "from sklearn.preprocessing import Normalizer\n",
    "min_max = Normalizer()\n",
    "min_max.fit(X_train[\"remaining_input\"].values.reshape(-1,1))\n",
    "x_train_num = min_max.transform(X_train[\"remaining_input\"].values.reshape(-1,1))\n",
    "x_test_num = min_max.transform(X_test[\"remaining_input\"].values.reshape(-1,1))\n",
    "x_cv_num = min_max.transform(X_cv[\"remaining_input\"].values.reshape(-1,1))\n",
    "print(x_train_num.shape)\n",
    "print(x_train_num)"
   ]
  },
  {
   "cell_type": "code",
   "execution_count": null,
   "metadata": {
    "colab": {},
    "colab_type": "code",
    "id": "c5z4iIfWJlbj"
   },
   "outputs": [],
   "source": [
    "#https://machinelearningmastery.com/use-word-embedding-layers-deep-learning-keras/\n",
    "def padded(encoded_docs):  \n",
    "  max_length = 400\n",
    "  padded_docs = pad_sequences(encoded_docs, maxlen=max_length, padding='post')\n",
    "  return padded_docs"
   ]
  },
  {
   "cell_type": "code",
   "execution_count": null,
   "metadata": {
    "colab": {
     "base_uri": "https://localhost:8080/",
     "height": 36
    },
    "colab_type": "code",
    "id": "bmvJijEvKCaC",
    "outputId": "b6b234ce-6adf-42d5-8f1f-97eab41ccf39"
   },
   "outputs": [
    {
     "name": "stdout",
     "output_type": "stream",
     "text": [
      "910\n"
     ]
    }
   ],
   "source": [
    "x_train_essay_text = X_train.essay.values.tolist()\n",
    "x_test_essay_text = X_test.essay.values.tolist()\n",
    "x_cv_essay_text = X_cv.essay.values.tolist()\n",
    "print(len(max(x_train_essay_text)))"
   ]
  },
  {
   "cell_type": "code",
   "execution_count": null,
   "metadata": {
    "colab": {},
    "colab_type": "code",
    "id": "HVIcz7p-JyJc"
   },
   "outputs": [],
   "source": [
    "#https://stackoverflow.com/posts/51956230/revisions\n",
    "t = Tokenizer()\n",
    "t.fit_on_texts(x_train_essay_text)\n",
    "vocab_size = len(t.word_index) + 1\n",
    "# integer encode the documents\n",
    "encoded_docs = t.texts_to_sequences(x_train_essay_text)\n",
    "X_train_essay = padded(encoded_docs)"
   ]
  },
  {
   "cell_type": "code",
   "execution_count": null,
   "metadata": {
    "colab": {},
    "colab_type": "code",
    "id": "3Yjdst38KIL6"
   },
   "outputs": [],
   "source": [
    "#t = Tokenizer()\n",
    "#t.fit_on_texts(x_cross.cleaned_essay)\n",
    "#vocab_size = len(t.word_index) + 1\n",
    "# integer encode the documents\n",
    "encoded_docs = t.texts_to_sequences(X_cv['essay'])\n",
    "X_cv_essay = padded(encoded_docs)"
   ]
  },
  {
   "cell_type": "code",
   "execution_count": null,
   "metadata": {
    "colab": {},
    "colab_type": "code",
    "id": "NuU8YPX5KStJ"
   },
   "outputs": [],
   "source": [
    "#t = Tokenizer()\n",
    "#t.fit_on_texts(x_cross.cleaned_essay)\n",
    "#vocab_size = len(t.word_index) + 1\n",
    "# integer encode the documents\n",
    "encoded_docs = t.texts_to_sequences(X_test['essay'])\n",
    "X_test_essay = padded(encoded_docs)"
   ]
  },
  {
   "cell_type": "code",
   "execution_count": null,
   "metadata": {
    "colab": {
     "base_uri": "https://localhost:8080/",
     "height": 73
    },
    "colab_type": "code",
    "id": "Nw3UvRkBKV8p",
    "outputId": "bc12d8f7-8ffe-4f88-ff94-55596151f512"
   },
   "outputs": [
    {
     "name": "stdout",
     "output_type": "stream",
     "text": [
      "(69918, 400)\n",
      "(17480, 400)\n",
      "(21850, 400)\n"
     ]
    }
   ],
   "source": [
    "print(X_train_essay.shape)\n",
    "print(X_cv_essay.shape)\n",
    "print(X_test_essay.shape)"
   ]
  },
  {
   "cell_type": "code",
   "execution_count": null,
   "metadata": {
    "colab": {},
    "colab_type": "code",
    "id": "Y8orwabYKrop"
   },
   "outputs": [],
   "source": [
    "embedding_matrix = np.zeros((vocab_size, 300))\n",
    "for word, i in t.word_index.items():\n",
    "    embedding_vector = db.get(word)\n",
    "    if embedding_vector is not None:\n",
    "        embedding_matrix[i] = embedding_vector"
   ]
  },
  {
   "cell_type": "code",
   "execution_count": null,
   "metadata": {
    "colab": {
     "base_uri": "https://localhost:8080/",
     "height": 36
    },
    "colab_type": "code",
    "id": "NXM6ONiFKsWx",
    "outputId": "3e6f32b6-7483-4097-e95d-1199236d884f"
   },
   "outputs": [
    {
     "data": {
      "text/plain": [
       "(47243, 300)"
      ]
     },
     "execution_count": 113,
     "metadata": {
      "tags": []
     },
     "output_type": "execute_result"
    }
   ],
   "source": [
    "embedding_matrix.shape"
   ]
  },
  {
   "cell_type": "code",
   "execution_count": null,
   "metadata": {
    "colab": {
     "base_uri": "https://localhost:8080/",
     "height": 111
    },
    "colab_type": "code",
    "id": "D1tti6mIOh9W",
    "outputId": "740738e6-506b-4db0-f50a-4499d66b8ab3"
   },
   "outputs": [
    {
     "name": "stdout",
     "output_type": "stream",
     "text": [
      "Final Data matrix\n",
      "(69918, 100) (69918, 2)\n",
      "(17480, 100) (17480, 2)\n",
      "(21850, 100) (21850, 2)\n",
      "====================================================================================================\n"
     ]
    }
   ],
   "source": [
    "from scipy.sparse import hstack\n",
    "x_tr_rem = hstack((X_train_school_state_ohe, X_train_teacher_prefix_ohe,X_train_project_grade_category_ohe ,X_train_clean_categories_ohe,X_train_clean_subcategories_ohe, x_train_num)).todense()\n",
    "x_cv_rem = hstack(( X_cv_school_state_ohe, X_cv_teacher_prefix_ohe,X_cv_project_grade_category_ohe ,X_cv_clean_categories_ohe,X_cv_clean_subcategories_ohe, x_cv_num)).todense()\n",
    "x_te_rem = hstack((X_test_school_state_ohe, X_test_teacher_prefix_ohe,X_test_project_grade_category_ohe ,X_test_clean_categories_ohe,X_test_clean_subcategories_ohe, x_test_num)).todense()\n",
    "print(\"Final Data matrix\")\n",
    "print(x_tr_rem.shape, y_train.shape)\n",
    "print(x_cv_rem.shape, y_cv.shape)\n",
    "print(x_te_rem.shape, y_test.shape)\n",
    "print(\"=\"*100)"
   ]
  },
  {
   "cell_type": "code",
   "execution_count": null,
   "metadata": {
    "colab": {},
    "colab_type": "code",
    "id": "Hnldq-nfQLSN"
   },
   "outputs": [],
   "source": [
    "from sklearn.preprocessing import StandardScaler\n",
    "mms = StandardScaler().fit(x_tr_rem)\n",
    "x_tr_rem_norm = mms.transform(x_tr_rem)\n",
    "x_cv_rem_norm = mms.transform(x_cv_rem)\n",
    "x_te_rem_norm = mms.transform(x_te_rem)"
   ]
  },
  {
   "cell_type": "code",
   "execution_count": null,
   "metadata": {
    "colab": {
     "base_uri": "https://localhost:8080/",
     "height": 36
    },
    "colab_type": "code",
    "id": "y9vtuWNXQfJr",
    "outputId": "3d87a942-f2f5-4458-89cf-0f70960883f2"
   },
   "outputs": [
    {
     "data": {
      "text/plain": [
       "69918"
      ]
     },
     "execution_count": 116,
     "metadata": {
      "tags": []
     },
     "output_type": "execute_result"
    }
   ],
   "source": [
    "x_tr_rem.shape[0]"
   ]
  },
  {
   "cell_type": "code",
   "execution_count": null,
   "metadata": {
    "colab": {},
    "colab_type": "code",
    "id": "Ci1hRk0pQPOG"
   },
   "outputs": [],
   "source": [
    "x_tr_rem_reshape = np.array(x_tr_rem).reshape(x_tr_rem.shape[0],x_tr_rem.shape[1],1)\n",
    "x_cv_rem_reshape = np.array(x_cv_rem).reshape(x_cv_rem.shape[0], x_tr_rem.shape[1],1)\n",
    "x_test_rem_reshape = np.array(x_te_rem).reshape(x_te_rem.shape[0], x_tr_rem.shape[1],1)"
   ]
  },
  {
   "cell_type": "code",
   "execution_count": null,
   "metadata": {
    "colab": {
     "base_uri": "https://localhost:8080/",
     "height": 36
    },
    "colab_type": "code",
    "id": "VJfIqK2oREZj",
    "outputId": "4b01caae-ed9a-43fb-ddf3-47d7b3cbb035"
   },
   "outputs": [
    {
     "data": {
      "text/plain": [
       "(69918, 100, 1)"
      ]
     },
     "execution_count": 118,
     "metadata": {
      "tags": []
     },
     "output_type": "execute_result"
    }
   ],
   "source": [
    "x_tr_rem_reshape.shape"
   ]
  },
  {
   "cell_type": "code",
   "execution_count": null,
   "metadata": {
    "colab": {
     "base_uri": "https://localhost:8080/",
     "height": 672
    },
    "colab_type": "code",
    "id": "ohGN-QM9RKAU",
    "outputId": "b61c352f-3af3-4c58-aebc-d7f709f00bb5"
   },
   "outputs": [
    {
     "name": "stdout",
     "output_type": "stream",
     "text": [
      "Model: \"model_3\"\n",
      "__________________________________________________________________________________________________\n",
      "Layer (type)                    Output Shape         Param #     Connected to                     \n",
      "==================================================================================================\n",
      "text_input (InputLayer)         (None, 400)          0                                            \n",
      "__________________________________________________________________________________________________\n",
      "rem (InputLayer)                (None, 100, 1)       0                                            \n",
      "__________________________________________________________________________________________________\n",
      "embedding_13 (Embedding)        (None, 400, 300)     14172900    text_input[0][0]                 \n",
      "__________________________________________________________________________________________________\n",
      "conv1d_1 (Conv1D)               (None, 98, 128)      512         rem[0][0]                        \n",
      "__________________________________________________________________________________________________\n",
      "lstm_3 (LSTM)                   (None, 400, 128)     219648      embedding_13[0][0]               \n",
      "__________________________________________________________________________________________________\n",
      "max_pooling1d_1 (MaxPooling1D)  (None, 32, 128)      0           conv1d_1[0][0]                   \n",
      "__________________________________________________________________________________________________\n",
      "flatten_13 (Flatten)            (None, 51200)        0           lstm_3[0][0]                     \n",
      "__________________________________________________________________________________________________\n",
      "flatten_14 (Flatten)            (None, 4096)         0           max_pooling1d_1[0][0]            \n",
      "__________________________________________________________________________________________________\n",
      "concatenate_3 (Concatenate)     (None, 55296)        0           flatten_13[0][0]                 \n",
      "                                                                 flatten_14[0][0]                 \n",
      "__________________________________________________________________________________________________\n",
      "dense_11 (Dense)                (None, 32)           1769504     concatenate_3[0][0]              \n",
      "__________________________________________________________________________________________________\n",
      "leaky_re_lu_10 (LeakyReLU)      (None, 32)           0           dense_11[0][0]                   \n",
      "__________________________________________________________________________________________________\n",
      "dense_12 (Dense)                (None, 16)           528         leaky_re_lu_10[0][0]             \n",
      "__________________________________________________________________________________________________\n",
      "dense_13 (Dense)                (None, 2)            34          dense_12[0][0]                   \n",
      "==================================================================================================\n",
      "Total params: 16,163,126\n",
      "Trainable params: 16,163,126\n",
      "Non-trainable params: 0\n",
      "__________________________________________________________________________________________________\n"
     ]
    }
   ],
   "source": [
    "from keras.layers import MaxPooling1D\n",
    "text_input = Input(shape=(400,), name = \"text_input\")\n",
    "# max_length = 150 ---->max length of sentence\n",
    "\n",
    "e1 = Embedding(vocab_size, 300, weights=[embedding_matrix], input_length=400)(text_input)\n",
    "\n",
    "l1= LSTM(128,activation = \"relu\",dropout=0.5,kernel_regularizer=l2(0.001),kernel_initializer='glorot_normal',return_sequences=True,input_shape=(150,300))(e1)\n",
    "#dout = Dropout(0.5)(l1)\n",
    "f1= Flatten()(l1)\n",
    "\n",
    "rem = Input(shape=(x_tr_rem.shape[1],1), name=\"rem\")\n",
    "rem_conv1 = Conv1D(128, 3,kernel_initializer='glorot_normal')(rem)\n",
    "act1= LeakyReLU(alpha = 0.3)(rem_conv1)\n",
    "#rem_conv2 =Conv1D(128, 3, activation='relu',kernel_initializer='glorot_normal' )(rem)\n",
    "max_pool =MaxPooling1D(3)(rem_conv1)\n",
    "#rem_conv3 =Conv1D(64, 3, activation='sigmoid')(max_pool)\n",
    "#rem_conv4 =Conv1D(128, 3, activation='sigmoid')(rem_conv3)\n",
    "f2= Flatten()(max_pool)\n",
    "x = keras.layers.concatenate([f1,f2])\n",
    "#x= Dense(256, activation='sigmoid')(x)\n",
    "#x= Dropout(0.25)(x)\n",
    "#x= Dense(128, kernel_regularizer=l2(0.001),kernel_initializer='glorot_normal')(x)\n",
    "#x= LeakyReLU(alpha = 0.3)(x)\n",
    "#x= Dropout(0.5)(x)\n",
    "#x= Dense(64,kernel_regularizer=l2(0.001),kernel_initializer='glorot_normal')(x)\n",
    "#x= LeakyReLU(alpha = 0.3)(x)\n",
    "#x= Dropout(0.5)(x)\n",
    "#x=BatchNormalization()(x)\n",
    "x= Dense(32,kernel_regularizer=l2(0.001),kernel_initializer='glorot_normal')(x)\n",
    "x= LeakyReLU(alpha = 0.3)(x)\n",
    "#x= Dropout(0.5)(x)\n",
    "x= Dense(16, activation='relu')(x)\n",
    "output=Dense(2, activation='softmax')(x)\n",
    "model_3 = Model(inputs=[text_input,rem], outputs=output)\n",
    "model_3.summary()"
   ]
  },
  {
   "cell_type": "code",
   "execution_count": null,
   "metadata": {
    "colab": {
     "base_uri": "https://localhost:8080/",
     "height": 859
    },
    "colab_type": "code",
    "id": "_FME3PTCS44U",
    "outputId": "8c670566-0e72-4d09-c098-37894b238cb3"
   },
   "outputs": [
    {
     "data": {
      "image/png": "[encoded data removed]",
      "text/plain": [
       "<IPython.core.display.Image object>"
      ]
     },
     "execution_count": 120,
     "metadata": {
      "tags": []
     },
     "output_type": "execute_result"
    }
   ],
   "source": [
    "#https://machinelearningmastery.com/visualize-deep-learning-neural-network-model-keras/\n",
    "from keras.utils.vis_utils import plot_model\n",
    "plot_model(model_3, to_file='/content/drive/My Drive/LSTM_Output/model_3.png', show_shapes=True, show_layer_names=True)"
   ]
  },
  {
   "cell_type": "code",
   "execution_count": null,
   "metadata": {
    "colab": {},
    "colab_type": "code",
    "id": "5UqfS1KaTHjq"
   },
   "outputs": [],
   "source": [
    "\n",
    "#https://stackoverflow.com/posts/51734992/revisions\n",
    "import tensorflow as tf\n",
    "from sklearn.metrics import roc_auc_score\n",
    "\n",
    "def auroc(y_true, y_pred):\n",
    "    return tf.py_function(roc_auc_score, (y_true, y_pred), tf.double)"
   ]
  },
  {
   "cell_type": "code",
   "execution_count": null,
   "metadata": {
    "colab": {},
    "colab_type": "code",
    "id": "j-OAjljpTOVq"
   },
   "outputs": [],
   "source": [
    "adam = keras.optimizers.Adam(lr=0.001)\n",
    "model_3.compile(optimizer=adam, loss='categorical_crossentropy',metrics=[auroc])"
   ]
  },
  {
   "cell_type": "code",
   "execution_count": null,
   "metadata": {
    "colab": {},
    "colab_type": "code",
    "id": "56lZuDxITrj6"
   },
   "outputs": [],
   "source": [
    "from keras.callbacks import ReduceLROnPlateau\n",
    "reduce_lr_3 = ReduceLROnPlateau(monitor='val_loss', factor=0.2,\n",
    "                              patience=1, min_lr=0.001,verbose = 1)"
   ]
  },
  {
   "cell_type": "code",
   "execution_count": null,
   "metadata": {
    "colab": {},
    "colab_type": "code",
    "id": "z2LKvc3DTuix"
   },
   "outputs": [],
   "source": [
    "earlystopping_3 = EarlyStopping(monitor='val_loss', patience=2, verbose=1)"
   ]
  },
  {
   "cell_type": "code",
   "execution_count": null,
   "metadata": {
    "colab": {},
    "colab_type": "code",
    "id": "XncoZkmzUURq"
   },
   "outputs": [],
   "source": [
    "from keras.utils import to_categorical\n",
    "y_train = to_categorical(y_train,2)\n",
    "y_cv = to_categorical(y_cv)\n",
    "y_test = to_categorical(y_test)"
   ]
  },
  {
   "cell_type": "code",
   "execution_count": null,
   "metadata": {
    "colab": {
     "base_uri": "https://localhost:8080/",
     "height": 36
    },
    "colab_type": "code",
    "id": "kM37HWBrW3T-",
    "outputId": "cf74dc62-4a5c-4534-fd6b-03eb93e419b1"
   },
   "outputs": [
    {
     "data": {
      "text/plain": [
       "(69918, 2)"
      ]
     },
     "execution_count": 51,
     "metadata": {
      "tags": []
     },
     "output_type": "execute_result"
    }
   ],
   "source": [
    "y_train.shape"
   ]
  },
  {
   "cell_type": "code",
   "execution_count": null,
   "metadata": {
    "colab": {
     "base_uri": "https://localhost:8080/",
     "height": 336
    },
    "colab_type": "code",
    "id": "b8ScknGFaU39",
    "outputId": "db339beb-0b44-480b-a57b-9e56cd1f4e9d"
   },
   "outputs": [
    {
     "name": "stdout",
     "output_type": "stream",
     "text": [
      "Train on 69918 samples, validate on 17480 samples\n",
      "Epoch 1/20\n",
      "69918/69918 [==============================] - 428s 6ms/step - loss: 0.5643 - auroc: 0.7110 - val_loss: 0.4278 - val_auroc: 0.7298\n",
      "Epoch 2/20\n",
      "69918/69918 [==============================] - 425s 6ms/step - loss: 0.3908 - auroc: 0.7623 - val_loss: 0.3955 - val_auroc: 0.7397\n",
      "Epoch 3/20\n",
      "69918/69918 [==============================] - 422s 6ms/step - loss: 0.3665 - auroc: 0.7884 - val_loss: 0.3875 - val_auroc: 0.7390\n",
      "Epoch 4/20\n",
      "69918/69918 [==============================] - 428s 6ms/step - loss: 0.3511 - auroc: 0.8067 - val_loss: 0.3937 - val_auroc: 0.7328\n",
      "\n",
      "Epoch 00004: ReduceLROnPlateau reducing learning rate to 0.001.\n",
      "Epoch 5/20\n",
      "69918/69918 [==============================] - 427s 6ms/step - loss: 0.3383 - auroc: 0.8259 - val_loss: 0.4001 - val_auroc: 0.7324\n",
      "\n",
      "Epoch 00005: ReduceLROnPlateau reducing learning rate to 0.001.\n",
      "Epoch 00005: early stopping\n"
     ]
    }
   ],
   "source": [
    "filepath = \"/content/drive/My Drive/LSTM_Output\"\n",
    "earlystopping_3 = EarlyStopping(monitor='val_loss', patience=2, verbose=1)\n",
    "\n",
    "checkpoint_3 = ModelCheckpoint(filepath, monitor='val_auc', verbose=1, save_best_only=True, mode='max')\n",
    "tensorboard = TensorBoard(log_dir=\"/content/drive/My Drive/LSTM_Output/logs/{}\".format(time()))\n",
    "callbacks_list = [checkpoint_3,tensorboard, earlystopping_3, reduce_lr_3]\n",
    "\n",
    "history_3= model_3.fit({'text_input': X_train_essay, 'rem':x_tr_rem_reshape}, y_train, nb_epoch=20, verbose=1, batch_size=256, validation_data=({'text_input': X_cv_essay, 'rem': x_cv_rem_reshape}  , y_cv), callbacks = callbacks_list)\n",
    "model_3.save('/content/drive/My Drive/LSTM_Output/dc_model3.h5')"
   ]
  },
  {
   "cell_type": "code",
   "execution_count": null,
   "metadata": {
    "colab": {},
    "colab_type": "code",
    "id": "bNASnXGF092g"
   },
   "outputs": [],
   "source": [
    "from keras.layers import MaxPooling1D\n",
    "text_input = Input(shape=(400,), name = \"text_input\")\n",
    "# max_length = 150 ---->max length of sentence\n",
    "\n",
    "e1 = Embedding(vocab_size, 300, weights=[embedding_matrix], input_length=400)(text_input)\n",
    "\n",
    "l1= LSTM(128,activation = \"relu\",dropout=0.5,kernel_regularizer=l2(0.001),kernel_initializer='glorot_normal',return_sequences=True,input_shape=(150,300))(e1)\n",
    "#dout = Dropout(0.5)(l1)\n",
    "f1= Flatten()(l1)\n",
    "\n",
    "rem = Input(shape=(x_tr_rem.shape[1],1), name=\"rem\")\n",
    "rem_conv1 = Conv1D(128, 3,kernel_initializer='glorot_normal')(rem)\n",
    "act1= LeakyReLU(alpha = 0.3)(rem_conv1)\n",
    "#rem_conv2 =Conv1D(128, 3, activation='relu',kernel_initializer='glorot_normal' )(rem)\n",
    "max_pool =MaxPooling1D(3)(rem_conv1)\n",
    "#rem_conv3 =Conv1D(64, 3, activation='sigmoid')(max_pool)\n",
    "#rem_conv4 =Conv1D(128, 3, activation='sigmoid')(rem_conv3)\n",
    "f2= Flatten()(max_pool)\n",
    "x = keras.layers.concatenate([f1,f2])\n",
    "#x= Dense(256, activation='sigmoid')(x)\n",
    "#x= Dropout(0.25)(x)\n",
    "#x= Dense(128, kernel_regularizer=l2(0.001),kernel_initializer='glorot_normal')(x)\n",
    "#x= LeakyReLU(alpha = 0.3)(x)\n",
    "#x= Dropout(0.5)(x)\n",
    "#x= Dense(64,kernel_regularizer=l2(0.001),kernel_initializer='glorot_normal')(x)\n",
    "#x= LeakyReLU(alpha = 0.3)(x)\n",
    "#x= Dropout(0.5)(x)\n",
    "#x=BatchNormalization()(x)\n",
    "x= Dense(32,kernel_regularizer=l2(0.001),kernel_initializer='glorot_normal')(x)\n",
    "x= LeakyReLU(alpha = 0.3)(x)\n",
    "#x= Dropout(0.5)(x)\n",
    "x= Dense(16, activation='relu')(x)\n",
    "output=Dense(2, activation='softmax')(x)\n",
    "model_3 = Model(inputs=[text_input,rem], outputs=output)\n",
    "model_3.compile(optimizer=adam, loss='categorical_crossentropy',metrics=[auroc])\n",
    "model_3.load_weights(\"/content/drive/My Drive/LSTM_Output/dc_model3.h5\")"
   ]
  },
  {
   "cell_type": "code",
   "execution_count": null,
   "metadata": {
    "colab": {
     "base_uri": "https://localhost:8080/",
     "height": 73
    },
    "colab_type": "code",
    "id": "FPJq2XZYKe-S",
    "outputId": "3726d75a-6596-450f-bcd2-4307d5910399"
   },
   "outputs": [
    {
     "name": "stdout",
     "output_type": "stream",
     "text": [
      "Auc for test data: 0.734\n",
      "Auc for CV data: 0.732\n",
      "Auc for train data: 0.858\n"
     ]
    }
   ],
   "source": [
    "print(\"Auc for test data: %0.3f\"%roc_auc_score(y_test,model_3.predict([X_test_essay,x_test_rem_reshape])))\n",
    "print(\"Auc for CV data: %0.3f\"%roc_auc_score(y_cv,model_3.predict([X_cv_essay,x_cv_rem_reshape])))\n",
    "print(\"Auc for train data: %0.3f\"%roc_auc_score( y_train,model_3.predict([X_train_essay,x_tr_rem_reshape])))"
   ]
  },
  {
   "cell_type": "code",
   "execution_count": null,
   "metadata": {
    "colab": {
     "base_uri": "https://localhost:8080/",
     "height": 279
    },
    "colab_type": "code",
    "id": "OGlpZn_zBAkT",
    "outputId": "51239037-c2f9-4cc9-8047-aa135a4814c2"
   },
   "outputs": [
    {
     "data": {
      "image/png": "[encoded data removed]",
      "text/plain": [
       "<Figure size 432x288 with 1 Axes>"
      ]
     },
     "metadata": {
      "needs_background": "light",
      "tags": []
     },
     "output_type": "display_data"
    }
   ],
   "source": [
    "fig,ax = plt.subplots(1,1)\n",
    "ax.set_xlabel('epoch') ; ax.set_ylabel('binary Crossentropy Loss')\n",
    "\n",
    "# list of epoch numbers\n",
    "x = list(range(1,5+1))\n",
    "\n",
    "# print(history.history.keys())\n",
    "# dict_keys(['val_loss', 'val_acc', 'loss', 'acc'])\n",
    "# history = model_drop.fit(X_train, Y_train, batch_size=batch_size, epochs=nb_epoch, verbose=1, validation_data=(X_test, Y_test))\n",
    "\n",
    "# we will get val_loss and val_acc only when you pass the paramter validation_data\n",
    "# val_loss : validation loss\n",
    "# val_acc : validation accuracy\n",
    "\n",
    "# loss : training loss\n",
    "# acc : train accuracy\n",
    "# for each key in histrory.histrory we will have a list of length equal to number of epochs\n",
    "\n",
    "\n",
    "vy = history_3.history['val_loss']\n",
    "ty = history_3.history['loss']\n",
    "plt_dynamic(x, vy, ty, ax)"
   ]
  },
  {
   "cell_type": "markdown",
   "metadata": {
    "colab_type": "text",
    "id": "8fQlBqIRBS-q"
   },
   "source": [
    "#Conclusion"
   ]
  },
  {
   "cell_type": "code",
   "execution_count": 1,
   "metadata": {
    "colab": {
     "base_uri": "https://localhost:8080/",
     "height": 148
    },
    "colab_type": "code",
    "id": "NyupC4LHBUtC",
    "outputId": "980dced4-2dd8-4af2-de8a-57159195ed9d"
   },
   "outputs": [
    {
     "name": "stdout",
     "output_type": "stream",
     "text": [
      "+---------+-----------+--------+----------+\n",
      "|  model  | train_auc | cv_auc | test_auc |\n",
      "+---------+-----------+--------+----------+\n",
      "| model_1 |   0.788   | 0.737  |  0.752   |\n",
      "| model_2 |   0.771   | 0.684  |  0.699   |\n",
      "| model_3 |    0.85   |  0.73  |   0.73   |\n",
      "+---------+-----------+--------+----------+\n"
     ]
    }
   ],
   "source": [
    "from prettytable import PrettyTable\n",
    "pretty=PrettyTable()\n",
    "pretty.field_names=[\"model\",\"train_auc\",\"cv_auc\",\"test_auc\"]\n",
    "pretty.add_row([\"model_1\",\"0.788\",\"0.737\",\"0.752\"])\n",
    "pretty.add_row([\"model_2\",\"0.771\",\"0.684\",\"0.699\"])\n",
    "pretty.add_row([\"model_3\",\"0.85\",\"0.73\",\"0.73\"])\n",
    "\n",
    "print(pretty)"
   ]
  },
  {
   "cell_type": "markdown",
   "metadata": {
    "colab_type": "text",
    "id": "RFHe7kT0C-9A"
   },
   "source": [
    "We can see that our model_1 has the best performance and model_2 has the worst performance."
   ]
  },
  {
   "cell_type": "code",
   "execution_count": null,
   "metadata": {},
   "outputs": [],
   "source": []
  }
 ],
 "metadata": {
  "accelerator": "GPU",
  "colab": {
   "collapsed_sections": [],
   "name": "akshayakn95@gmail.com_model2/3.ipynb",
   "provenance": [],
   "toc_visible": true
  },
  "kernelspec": {
   "display_name": "Python 3",
   "language": "python",
   "name": "python3"
  },
  "language_info": {
   "codemirror_mode": {
    "name": "ipython",
    "version": 3
   },
   "file_extension": ".py",
   "mimetype": "text/x-python",
   "name": "python",
   "nbconvert_exporter": "python",
   "pygments_lexer": "ipython3",
   "version": "3.7.6"
  },
  "latex_envs": {
   "LaTeX_envs_menu_present": true,
   "autoclose": false,
   "autocomplete": true,
   "bibliofile": "biblio.bib",
   "cite_by": "apalike",
   "current_citInitial": 1,
   "eqLabelWithNumbers": true,
   "eqNumInitial": 1,
   "hotkeys": {
    "equation": "Ctrl-E",
    "itemize": "Ctrl-I"
   },
   "labels_anchors": false,
   "latex_user_defs": false,
   "report_style_numbering": false,
   "user_envs_cfg": false
  },
  "toc": {
   "base_numbering": 1,
   "nav_menu": {},
   "number_sections": true,
   "sideBar": true,
   "skip_h1_title": false,
   "title_cell": "Table of Contents",
   "title_sidebar": "Contents",
   "toc_cell": false,
   "toc_position": {},
   "toc_section_display": true,
   "toc_window_display": false
  },
  "varInspector": {
   "cols": {
    "lenName": 16,
    "lenType": 16,
    "lenVar": 40
   },
   "kernels_config": {
    "python": {
     "delete_cmd_postfix": "",
     "delete_cmd_prefix": "del ",
     "library": "var_list.py",
     "varRefreshCmd": "print(var_dic_list())"
    },
    "r": {
     "delete_cmd_postfix": ") ",
     "delete_cmd_prefix": "rm(",
     "library": "var_list.r",
     "varRefreshCmd": "cat(var_dic_list()) "
    }
   },
   "types_to_exclude": [
    "module",
    "function",
    "builtin_function_or_method",
    "instance",
    "_Feature"
   ],
   "window_display": false
  }
 },
 "nbformat": 4,
 "nbformat_minor": 1
}
